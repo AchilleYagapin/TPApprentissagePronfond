{
 "cells": [
  {
   "cell_type": "markdown",
   "metadata": {
    "id": "_8-YqueouC3p"
   },
   "source": [
    "----------------------------\n",
    "# Session 2 \n",
    "----------------------------"
   ]
  },
  {
   "cell_type": "code",
   "execution_count": 1,
   "metadata": {
    "colab": {
     "base_uri": "https://localhost:8080/"
    },
    "id": "SiG9GKTlTPeC",
    "outputId": "8999b0e4-4a75-4e95-9210-e3eece031ac3"
   },
   "outputs": [
    {
     "name": "stdout",
     "output_type": "stream",
     "text": [
      "Device : cpu\n"
     ]
    }
   ],
   "source": [
    "%matplotlib inline\n",
    "import torch\n",
    "import numpy as np\n",
    "if torch.cuda.is_available():\n",
    "    device = torch.device('cuda')\n",
    "else:\n",
    "    device = torch.device('cpu')\n",
    "print(f\"Device : {device}\")"
   ]
  },
  {
   "cell_type": "markdown",
   "metadata": {
    "id": "ifwtEcBknTT6"
   },
   "source": [
    "## Linear regression using PyTorch built-ins\n",
    "\n",
    "We've implemented linear regression & gradient descent model using some basic tensor operations. However, since this is a common pattern in deep learning, PyTorch provides several built-in functions and classes to make it easy to create and train models with just a few lines of code.\n",
    "\n",
    "Let's begin by importing the `torch.nn` package from PyTorch, which contains utility classes for building neural networks."
   ]
  },
  {
   "cell_type": "code",
   "execution_count": 2,
   "metadata": {
    "id": "cZvaMwb4nTT6"
   },
   "outputs": [],
   "source": [
    "import torch.nn as nn"
   ]
  },
  {
   "cell_type": "markdown",
   "metadata": {
    "id": "R6Q0ctuCnTT6"
   },
   "source": [
    "### Dataset and DataLoader\n",
    "\n",
    "We'll create a `TensorDataset`, which allows access to rows from `inputs` and `targets` as tuples, and provides standard APIs for working with many different types of datasets in PyTorch."
   ]
  },
  {
   "cell_type": "code",
   "execution_count": 3,
   "metadata": {
    "id": "Ilbt8aRKnTT6"
   },
   "outputs": [],
   "source": [
    "from torch.utils.data import TensorDataset"
   ]
  },
  {
   "cell_type": "code",
   "execution_count": 4,
   "metadata": {
    "cellView": "form",
    "id": "ZYTlFZV5TcN7"
   },
   "outputs": [],
   "source": [
    "#@title  the dataset as simple tensors\n",
    "# Input (temp, rainfall, humidity)\n",
    "inputs = np.array([[73, 67, 43], \n",
    "                   [91, 88, 64], \n",
    "                   [87, 134, 58], \n",
    "                   [102, 43, 37], \n",
    "                   [69, 96, 70], \n",
    "                   [74, 66, 43], \n",
    "                   [91, 87, 65], \n",
    "                   [88, 134, 59], \n",
    "                   [101, 44, 37], \n",
    "                   [68, 96, 71], \n",
    "                   [73, 66, 44], \n",
    "                   [92, 87, 64], \n",
    "                   [87, 135, 57], \n",
    "                   [103, 43, 36], \n",
    "                   [68, 97, 70]], \n",
    "                  dtype='float32')\n",
    "\n",
    "# Targets (apples, oranges)\n",
    "targets = np.array([[56, 70], \n",
    "                    [81, 101], \n",
    "                    [119, 133], \n",
    "                    [22, 37], \n",
    "                    [103, 119],\n",
    "                    [57, 69], \n",
    "                    [80, 102], \n",
    "                    [118, 132], \n",
    "                    [21, 38], \n",
    "                    [104, 118], \n",
    "                    [57, 69], \n",
    "                    [82, 100], \n",
    "                    [118, 134], \n",
    "                    [20, 38], \n",
    "                    [102, 120]], \n",
    "                   dtype='float32')\n",
    "\n",
    "inputs = torch.from_numpy(inputs)\n",
    "targets = torch.from_numpy(targets)"
   ]
  },
  {
   "cell_type": "code",
   "execution_count": 5,
   "metadata": {
    "colab": {
     "base_uri": "https://localhost:8080/"
    },
    "id": "XUzVuPNznTT6",
    "outputId": "83355a83-250a-41e3-cfdb-863ac71e2cd3"
   },
   "outputs": [
    {
     "data": {
      "text/plain": [
       "(tensor([[ 73.,  67.,  43.],\n",
       "         [ 91.,  88.,  64.],\n",
       "         [ 87., 134.,  58.]]),\n",
       " tensor([[ 56.,  70.],\n",
       "         [ 81., 101.],\n",
       "         [119., 133.]]))"
      ]
     },
     "execution_count": 5,
     "metadata": {},
     "output_type": "execute_result"
    }
   ],
   "source": [
    "# Define the dataset based on the Dataset interface \n",
    "train_ds = TensorDataset(inputs, targets)\n",
    "train_ds[0:3]"
   ]
  },
  {
   "cell_type": "markdown",
   "metadata": {
    "id": "nTN9tmCinTT6"
   },
   "source": [
    "The `TensorDataset` allows us to access a small section of the training data using the array indexing notation (`[0:3]` in the above code). It returns a tuple with two elements. The first element contains the input variables for the selected rows, and the second contains the targets."
   ]
  },
  {
   "cell_type": "markdown",
   "metadata": {
    "id": "RY9KCD5InTT6"
   },
   "source": [
    "We'll also create a `DataLoader`, which can split the data into batches of a predefined size while training. It also provides other utilities like shuffling and random sampling of the data."
   ]
  },
  {
   "cell_type": "code",
   "execution_count": 6,
   "metadata": {
    "id": "Ln7VxDopnTT6"
   },
   "outputs": [],
   "source": [
    "from torch.utils.data import DataLoader"
   ]
  },
  {
   "cell_type": "code",
   "execution_count": 7,
   "metadata": {
    "id": "RujVrFSpnTT7"
   },
   "outputs": [],
   "source": [
    "# Define data loader\n",
    "batch_size = 5\n",
    "train_dl = DataLoader(train_ds, batch_size, shuffle=True)"
   ]
  },
  {
   "cell_type": "markdown",
   "metadata": {
    "id": "_wiNLw91nTT7"
   },
   "source": [
    "We can use the data loader in a `for` loop. Let's look at an example."
   ]
  },
  {
   "cell_type": "code",
   "execution_count": 8,
   "metadata": {
    "colab": {
     "base_uri": "https://localhost:8080/"
    },
    "id": "jWQ_rmNenTT7",
    "outputId": "fcbe7d42-eea6-4f8c-bdba-12d38cc9d821"
   },
   "outputs": [
    {
     "name": "stdout",
     "output_type": "stream",
     "text": [
      "tensor([[ 68.,  96.,  71.],\n",
      "        [101.,  44.,  37.],\n",
      "        [102.,  43.,  37.],\n",
      "        [ 69.,  96.,  70.],\n",
      "        [103.,  43.,  36.]])\n",
      "tensor([[104., 118.],\n",
      "        [ 21.,  38.],\n",
      "        [ 22.,  37.],\n",
      "        [103., 119.],\n",
      "        [ 20.,  38.]])\n"
     ]
    }
   ],
   "source": [
    "for xb, yb in train_dl:\n",
    "    print(xb)\n",
    "    print(yb)\n",
    "    break"
   ]
  },
  {
   "cell_type": "markdown",
   "metadata": {
    "id": "hOaqVznxnTT7"
   },
   "source": [
    "In each iteration, the data loader returns one batch of data with the given batch size. If `shuffle` is set to `True`, it shuffles the training data before creating batches. Shuffling helps randomize the input to the optimization algorithm, leading to a faster reduction in the loss."
   ]
  },
  {
   "cell_type": "markdown",
   "metadata": {
    "id": "Kt2US8ZVnTT7"
   },
   "source": [
    "### nn.Linear\n",
    "\n",
    "Instead of initializing the weights & biases manually, we can define the model using the `nn.Linear` class from PyTorch, which does it automatically."
   ]
  },
  {
   "cell_type": "code",
   "execution_count": 9,
   "metadata": {
    "colab": {
     "base_uri": "https://localhost:8080/"
    },
    "id": "zo2YVY8unTT7",
    "outputId": "4a7d027b-1786-4269-c66e-6d4edf661048"
   },
   "outputs": [
    {
     "name": "stdout",
     "output_type": "stream",
     "text": [
      "Parameter containing:\n",
      "tensor([[ 0.0384, -0.2567, -0.1555],\n",
      "        [-0.0552,  0.2166,  0.1584]], requires_grad=True)\n",
      "Parameter containing:\n",
      "tensor([0.4452, 0.5586], requires_grad=True)\n"
     ]
    }
   ],
   "source": [
    "# Define model\n",
    "model = nn.Linear(3, 2)\n",
    "print(model.weight)\n",
    "print(model.bias)"
   ]
  },
  {
   "cell_type": "markdown",
   "metadata": {
    "id": "CUIEeKxLnTT7"
   },
   "source": [
    "PyTorch models also have a helpful `.parameters` method, which returns a list containing all the weights and bias matrices present in the model. For our linear regression model, we have one weight matrix and one bias matrix."
   ]
  },
  {
   "cell_type": "code",
   "execution_count": 10,
   "metadata": {
    "colab": {
     "base_uri": "https://localhost:8080/"
    },
    "id": "r5HQ9vwdnTT7",
    "outputId": "3ec87de9-483c-42ac-ba6c-1a858aea1586"
   },
   "outputs": [
    {
     "data": {
      "text/plain": [
       "[Parameter containing:\n",
       " tensor([[ 0.0384, -0.2567, -0.1555],\n",
       "         [-0.0552,  0.2166,  0.1584]], requires_grad=True),\n",
       " Parameter containing:\n",
       " tensor([0.4452, 0.5586], requires_grad=True)]"
      ]
     },
     "execution_count": 10,
     "metadata": {},
     "output_type": "execute_result"
    }
   ],
   "source": [
    "# Parameters\n",
    "list(model.parameters())"
   ]
  },
  {
   "cell_type": "markdown",
   "metadata": {
    "id": "iwKcHBRznTT7"
   },
   "source": [
    "We can use the model to generate predictions in the same way as before."
   ]
  },
  {
   "cell_type": "code",
   "execution_count": 11,
   "metadata": {
    "colab": {
     "base_uri": "https://localhost:8080/"
    },
    "id": "aQJUtX9cnTT7",
    "outputId": "b01ba268-a168-4c0b-8c0f-c9c005b0f33d"
   },
   "outputs": [
    {
     "data": {
      "text/plain": [
       "tensor([[-20.6352,  17.8490],\n",
       "        [-28.5992,  24.7297],\n",
       "        [-39.6264,  33.9636],\n",
       "        [-12.4297,  10.0981],\n",
       "        [-32.4296,  28.6283],\n",
       "        [-20.3402,  17.5772],\n",
       "        [-28.4980,  24.6715],\n",
       "        [-39.7435,  34.0668],\n",
       "        [-12.7247,  10.3699],\n",
       "        [-32.6234,  28.8420],\n",
       "        [-20.5340,  17.7908],\n",
       "        [-28.3042,  24.4578],\n",
       "        [-39.7276,  34.0218],\n",
       "        [-12.2358,   9.8844],\n",
       "        [-32.7246,  28.9002]], grad_fn=<AddmmBackward0>)"
      ]
     },
     "execution_count": 11,
     "metadata": {},
     "output_type": "execute_result"
    }
   ],
   "source": [
    "# Generate predictions\n",
    "preds = model(inputs)\n",
    "preds"
   ]
  },
  {
   "cell_type": "markdown",
   "metadata": {
    "id": "_GEW6PaCnTT7"
   },
   "source": [
    "### Loss Function\n",
    "\n",
    "Instead of defining a loss function manually, we can use the built-in loss function `mse_loss`."
   ]
  },
  {
   "cell_type": "code",
   "execution_count": 12,
   "metadata": {
    "id": "vBtR_zwAnTT7"
   },
   "outputs": [],
   "source": [
    "# Import nn.functional\n",
    "import torch.nn.functional as F"
   ]
  },
  {
   "cell_type": "markdown",
   "metadata": {
    "id": "dof53gOVnTT7"
   },
   "source": [
    "The `nn.functional` package contains many useful loss functions and several other utilities. "
   ]
  },
  {
   "cell_type": "code",
   "execution_count": 13,
   "metadata": {
    "id": "rRDSPR-7nTT7"
   },
   "outputs": [],
   "source": [
    "# Define loss function\n",
    "loss_fn = F.mse_loss"
   ]
  },
  {
   "cell_type": "markdown",
   "metadata": {
    "id": "jcaVT6V-nTT7"
   },
   "source": [
    "Let's compute the loss for the current predictions of our model."
   ]
  },
  {
   "cell_type": "code",
   "execution_count": 14,
   "metadata": {
    "colab": {
     "base_uri": "https://localhost:8080/"
    },
    "id": "MOfR_XE-nTT7",
    "outputId": "bdd11032-4f45-4d50-b93b-bd621b3bd2b2"
   },
   "outputs": [
    {
     "name": "stdout",
     "output_type": "stream",
     "text": [
      "tensor(8961.2520, grad_fn=<MseLossBackward0>)\n"
     ]
    }
   ],
   "source": [
    "loss = loss_fn(model(inputs), targets)\n",
    "print(loss)"
   ]
  },
  {
   "cell_type": "markdown",
   "metadata": {
    "id": "NchjNa8VnTT7"
   },
   "source": [
    "### Optimizer\n",
    "\n",
    "Instead of manually manipulating the model's weights & biases using gradients, we can use the optimizer `optim.SGD`. SGD is short for \"stochastic gradient descent\". The term _stochastic_ indicates that samples are selected in random batches instead of as a single group. Since the group can be larger than a single element, it corresponds to SGD with _minibatch_. In fact, the `optimizer` is not responsible for loading batches, as this aspect is handled by the `DataLoader`."
   ]
  },
  {
   "cell_type": "code",
   "execution_count": 15,
   "metadata": {
    "id": "T3kLIKfqnTT7"
   },
   "outputs": [],
   "source": [
    "# Define optimizer\n",
    "opt = torch.optim.SGD(model.parameters(), lr=1e-5)"
   ]
  },
  {
   "cell_type": "markdown",
   "metadata": {
    "id": "ACDhnpd3nTT8"
   },
   "source": [
    "Note that `model.parameters()` is passed as an argument to `optim.SGD` so that the optimizer knows which matrices should be modified during the update step. Also, we can specify a learning rate that controls the amount by which the parameters are modified."
   ]
  },
  {
   "cell_type": "markdown",
   "metadata": {
    "id": "eFfOxwMjnTT8"
   },
   "source": [
    "## Exercise 1: Train the model\n",
    "\n",
    "We are now ready to train the model. We'll follow the same process to implement gradient descent:\n",
    "\n",
    "1. Generate predictions\n",
    "\n",
    "2. Calculate the loss\n",
    "\n",
    "3. Compute gradients w.r.t the weights and biases\n",
    "\n",
    "4. Adjust the weights by subtracting a small quantity proportional to the gradient\n",
    "\n",
    "5. Reset the gradients to zero\n",
    "\n",
    "The only change is that we'll work batches of data instead of processing the entire training data in every iteration. Let's define a utility function `fit` that trains the model for a given number of epochs."
   ]
  },
  {
   "cell_type": "code",
   "execution_count": 16,
   "metadata": {
    "id": "s4G-FSTAnTT8"
   },
   "outputs": [],
   "source": [
    "# Utility function to train the model\n",
    "def train_with_MiniBatchSGD(num_epochs, model, loss_fn, opt, train_dl):\n",
    "    \n",
    "    # Repeat for given number of epochs\n",
    "    for epoch in range(num_epochs):\n",
    "        \n",
    "        # Train with batches of data\n",
    "        for xb,yb in train_dl:\n",
    "            \n",
    "            # 1. Generate predictions\n",
    "            pred = model(xb)\n",
    "            \n",
    "            # 2. Calculate loss\n",
    "            loss = loss_fn(pred, yb)\n",
    "            \n",
    "            # 3. Compute gradients\n",
    "            raise Exception('Compute the gradient')\n",
    "            \n",
    "            # 4. Update parameters using gradients\n",
    "            raise Exception('Use the optimizer to update the parameters')\n",
    "            \n",
    "            # 5. Reset the gradients to zero\n",
    "            raise Exception('reset the gradients using the optimzer')\n",
    "        \n",
    "        # Print the progress\n",
    "        if (epoch+1) % 10 == 0:\n",
    "            print('Epoch [{}/{}], Loss: {:.4f}'.format(epoch+1, num_epochs, loss.item()))"
   ]
  },
  {
   "cell_type": "markdown",
   "metadata": {
    "id": "JsIQmUfvnTT8"
   },
   "source": [
    "Some things to note above:\n",
    "\n",
    "* We use the data loader defined earlier to get batches of data for every iteration.\n",
    "\n",
    "* Instead of updating parameters (weights and biases) manually, we use `opt.step` to perform the update and `opt.zero_grad` to reset the gradients to zero.\n",
    "\n",
    "* We've also added a log statement that prints the loss from the last batch of data for every 10th epoch to track training progress. `loss.item` returns the actual value stored in the loss tensor.\n",
    "\n",
    "Let's train the model for 100 epochs."
   ]
  },
  {
   "cell_type": "code",
   "execution_count": 17,
   "metadata": {
    "colab": {
     "base_uri": "https://localhost:8080/"
    },
    "id": "QL9O4M3knTT8",
    "outputId": "28ec9b0c-847b-476d-8ebf-60bc13e6bb76"
   },
   "outputs": [
    {
     "name": "stdout",
     "output_type": "stream",
     "text": [
      "Epoch [10/100], Loss: 791.2788\n",
      "Epoch [20/100], Loss: 307.6425\n",
      "Epoch [30/100], Loss: 85.2111\n",
      "Epoch [40/100], Loss: 213.4459\n",
      "Epoch [50/100], Loss: 155.3407\n",
      "Epoch [60/100], Loss: 59.4472\n",
      "Epoch [70/100], Loss: 42.0978\n",
      "Epoch [80/100], Loss: 88.9277\n",
      "Epoch [90/100], Loss: 49.2883\n",
      "Epoch [100/100], Loss: 61.3160\n"
     ]
    }
   ],
   "source": [
    "train_with_MiniBatchSGD(100, model, loss_fn, opt, train_dl)"
   ]
  },
  {
   "cell_type": "markdown",
   "metadata": {
    "id": "ACqBspYSnTT8"
   },
   "source": [
    "Let's generate predictions using our model and verify that they're close to our targets."
   ]
  },
  {
   "cell_type": "code",
   "execution_count": 18,
   "metadata": {
    "colab": {
     "base_uri": "https://localhost:8080/"
    },
    "id": "MIJJvhEPnTT8",
    "outputId": "5e7e6d8d-3e5a-4e32-8dfc-db58894711bb"
   },
   "outputs": [
    {
     "data": {
      "text/plain": [
       "tensor([[ 58.0763,  72.2417],\n",
       "        [ 80.9597,  96.4847],\n",
       "        [119.2587, 139.9561],\n",
       "        [ 27.0622,  47.3321],\n",
       "        [ 96.2716, 105.7728],\n",
       "        [ 56.9491,  71.2566],\n",
       "        [ 80.5358,  95.7134],\n",
       "        [119.4434, 140.1388],\n",
       "        [ 28.1894,  48.3172],\n",
       "        [ 96.9748, 105.9866],\n",
       "        [ 57.6523,  71.4704],\n",
       "        [ 79.8325,  95.4996],\n",
       "        [119.6826, 140.7274],\n",
       "        [ 26.3589,  47.1183],\n",
       "        [ 97.3988, 106.7579]], grad_fn=<AddmmBackward>)"
      ]
     },
     "execution_count": 18,
     "metadata": {},
     "output_type": "execute_result"
    }
   ],
   "source": [
    "# Generate predictions\n",
    "preds = model(inputs)\n",
    "preds"
   ]
  },
  {
   "cell_type": "code",
   "execution_count": 19,
   "metadata": {
    "colab": {
     "base_uri": "https://localhost:8080/"
    },
    "id": "6p4YjlHHnTT8",
    "outputId": "0576874f-70a3-4f97-b540-6eb5b8ceb176"
   },
   "outputs": [
    {
     "data": {
      "text/plain": [
       "tensor([[ 56.,  70.],\n",
       "        [ 81., 101.],\n",
       "        [119., 133.],\n",
       "        [ 22.,  37.],\n",
       "        [103., 119.],\n",
       "        [ 57.,  69.],\n",
       "        [ 80., 102.],\n",
       "        [118., 132.],\n",
       "        [ 21.,  38.],\n",
       "        [104., 118.],\n",
       "        [ 57.,  69.],\n",
       "        [ 82., 100.],\n",
       "        [118., 134.],\n",
       "        [ 20.,  38.],\n",
       "        [102., 120.]])"
      ]
     },
     "execution_count": 19,
     "metadata": {},
     "output_type": "execute_result"
    }
   ],
   "source": [
    "# Compare with targets\n",
    "targets"
   ]
  },
  {
   "cell_type": "markdown",
   "metadata": {
    "id": "tjA8xLw_nTT8"
   },
   "source": [
    "Indeed, the predictions are quite close to our targets. We have a trained a reasonably good model to predict crop yields for apples and oranges by looking at the average temperature, rainfall, and humidity in a region. We can use it to make predictions of crop yields for new regions by passing a batch containing a single row of input."
   ]
  },
  {
   "cell_type": "code",
   "execution_count": 20,
   "metadata": {
    "colab": {
     "base_uri": "https://localhost:8080/"
    },
    "id": "p5B9idWGnTT8",
    "outputId": "16e5d7dc-dd9e-438a-c391-02d7375040f1"
   },
   "outputs": [
    {
     "name": "stdout",
     "output_type": "stream",
     "text": [
      "tensor([[54.5299, 68.5306]])\n"
     ]
    }
   ],
   "source": [
    "with torch.no_grad():\n",
    "    print(model(torch.tensor([[75, 63, 44.]])))"
   ]
  },
  {
   "cell_type": "markdown",
   "metadata": {
    "id": "pMWc-n3L-eV_"
   },
   "source": [
    "## Training an MLP classifier on FashionMNIST\n",
    "FashionMNIST is a classification benchmark, where images are associated to classes. In this exercise, you shall have to adapt the linear regression to this context. The main adaptation steps are as follows:\n",
    "* Change the dataset (using TorchVision)\n",
    "* Replace the mere linear model by an MLP\n",
    "* Change the MSE loss to a CrossEntropy loss"
   ]
  },
  {
   "cell_type": "markdown",
   "metadata": {
    "id": "aRI-NwO0qmXV"
   },
   "source": [
    "\n",
    "### Working with data\n",
    "Remember that PyTorch has two `primitives to work with data <https://pytorch.org/docs/stable/data.html>`_:\n",
    "``torch.utils.data.DataLoader`` and ``torch.utils.data.Dataset``.\n",
    "``Dataset`` stores the samples and their corresponding labels, and ``DataLoader`` wraps an iterable around\n",
    "the ``Dataset``.\n",
    "\n",
    "PyTorch offers domain-specific libraries such as `TorchText <https://pytorch.org/text/stable/index.html>`_,\n",
    "`TorchVision <https://pytorch.org/vision/stable/index.html>`_, and `TorchAudio <https://pytorch.org/audio/stable/index.html>`_,\n",
    "all of which include datasets. For this tutorial, we  will be using a TorchVision dataset.\n",
    "\n",
    "The ``torchvision.datasets`` module contains ``Dataset`` objects for many real-world vision data like\n",
    "CIFAR, COCO (`full list here <https://pytorch.org/vision/stable/datasets.html>`_). In this tutorial, we\n",
    "use the FashionMNIST dataset. \n",
    "Each training and test example is assigned to one of the following labels:\n",
    "\n",
    "| Label | Description |\n",
    "| --- | --- |\n",
    "| 0 | T-shirt/top |\n",
    "| 1 | Trouser |\n",
    "| 2 | Pullover |\n",
    "| 3 | Dress |\n",
    "| 4 | Coat |\n",
    "| 5 | Sandal |\n",
    "| 6 | Shirt |\n",
    "| 7 | Sneaker |\n",
    "| 8 | Bag |\n",
    "| 9 | Ankle boot |\n",
    "\n",
    "\n",
    "\n",
    "Every TorchVision ``Dataset`` includes an argument: ``transform``\n",
    " to modify the samples.\n",
    "\n",
    "\n"
   ]
  },
  {
   "cell_type": "code",
   "execution_count": 17,
   "metadata": {
    "id": "Myk5PX3vqmXa"
   },
   "outputs": [],
   "source": [
    "# Import TorchVision utilities\n",
    "from torchvision import datasets\n",
    "from torchvision.transforms import ToTensor, Lambda, Compose\n",
    "\n",
    "# Download training data from open datasets.\n",
    "training_data = datasets.FashionMNIST(\n",
    "    root=\"data\",\n",
    "    train=True,\n",
    "    download=True,\n",
    "    transform=ToTensor(),\n",
    ")\n",
    "\n",
    "# Download test data from open datasets.\n",
    "test_data = datasets.FashionMNIST(\n",
    "    root=\"data\",\n",
    "    train=False,\n",
    "    download=True,\n",
    "    transform=ToTensor(),\n",
    ")"
   ]
  },
  {
   "cell_type": "markdown",
   "metadata": {
    "id": "z4q4DfnEqmXa"
   },
   "source": [
    "We pass the ``Dataset`` as an argument to ``DataLoader``. This wraps an iterable over our dataset, and supports\n",
    "automatic batching, sampling, shuffling and multiprocess data loading. Here we define a batch size of 64, i.e. each element\n",
    "in the dataloader iterable will return a batch of 64 features and labels.\n",
    "\n"
   ]
  },
  {
   "cell_type": "code",
   "execution_count": 18,
   "metadata": {
    "colab": {
     "base_uri": "https://localhost:8080/"
    },
    "id": "j9_YvmGhqmXb",
    "outputId": "4cc84ba0-6f5e-4e90-d716-b6f3ee04de54"
   },
   "outputs": [
    {
     "name": "stdout",
     "output_type": "stream",
     "text": [
      "Shape of X [N, C, H, W]:  torch.Size([64, 1, 28, 28])\n",
      "Shape of y:  torch.Size([64]) torch.int64\n"
     ]
    }
   ],
   "source": [
    "batch_size = 64\n",
    "\n",
    "# Create data loaders.\n",
    "train_dataloader = DataLoader(training_data, batch_size=batch_size)\n",
    "test_dataloader = DataLoader(test_data, batch_size=batch_size)\n",
    "\n",
    "# Get one batch of data and print its tensor shape\n",
    "X,y = next(iter(train_dataloader))\n",
    "print(\"Shape of X [N, C, H, W]: \", X.shape)\n",
    "print(\"Shape of y: \", y.shape, y.dtype)"
   ]
  },
  {
   "cell_type": "markdown",
   "metadata": {
    "id": "8Tl2PoDsqmXc"
   },
   "source": [
    "--------------\n",
    "\n",
    "\n"
   ]
  },
  {
   "cell_type": "markdown",
   "metadata": {
    "id": "-_4pCW0HqmXd"
   },
   "source": [
    "## Exercise 2: Creating  the MLP model\n",
    "\n",
    "To define a MLP, you may rely on `nn.Sequential <https://pytorch.org/docs/stable/generated/torch.nn.Sequential.html>`. It implements a sequential container modules made from a sequence of `nn.Module`. The goal here is to have the following sequence:\n",
    "\n",
    "$$\n",
    "I\\in\\mathbb R^{28}\\otimes\\mathbb R^{28}  \n",
    "\\xrightarrow{\\mathrm{flatten}}{} \\mathbb R^{28\\times 28}=\\mathbb R^{784}\n",
    "\\xrightarrow{\\mathrm{Linear+ReLU}}{} \\mathbb R^{512}\n",
    "\\xrightarrow{\\mathrm{Linear+ReLU}}{} \\mathbb R^{512}\n",
    "\\xrightarrow{\\mathrm{Linear}}{} \\mathbb R^{n_c}\n",
    "$$\n",
    "\n",
    "You shall implement this archticture, and determine what is the logical value for $n_c$ in our settings."
   ]
  },
  {
   "cell_type": "code",
   "execution_count": 19,
   "metadata": {
    "colab": {
     "base_uri": "https://localhost:8080/"
    },
    "id": "yJKIqGvfqmXd",
    "outputId": "1736356a-8142-4c9a-b191-a5702f9e639c"
   },
   "outputs": [
    {
     "name": "stdout",
     "output_type": "stream",
     "text": [
      "Exercise 2: [NOK]\n"
     ]
    }
   ],
   "source": [
    "debug = False\n",
    "def create_MLP():\n",
    "    model = nn.Sequential().to(device)\n",
    "    return model\n",
    "\n",
    "def test_exercise2():\n",
    "    model = create_MLP()\n",
    "    if not isinstance(model, nn.Sequential):\n",
    "        print('Exercise 2: [NOK]')\n",
    "        if debug:\n",
    "            print(f'The model should be a nn.Sequential instance not {type(model)}')\n",
    "        return\n",
    "\n",
    "    if len(model) != 6:\n",
    "        print('Exercise 2: [NOK]')\n",
    "        if debug:\n",
    "            print(f'The model should be 6 layers not {len(mode)}')\n",
    "        return\n",
    "    \n",
    "    model_device = next(model.parameters()).device\n",
    "    expected_device = torch.empty(1).to(device).device\n",
    "    if model_device != expected_device:\n",
    "        print('Exercise 2: [NOK]')\n",
    "        if debug:\n",
    "            print(f'The model should run on {expected_device} not on {model_device}')\n",
    "        return\n",
    "    \n",
    "    X,y = next(iter(train_dataloader))\n",
    "    pred = model(X.to(device))\n",
    "    expected_shape = torch.Size((batch_size, 10))\n",
    "    if pred.shape != expected_shape:\n",
    "        print('Exercise 2: [NOK]')\n",
    "        if debug:\n",
    "            print(f'The model predictions should be shaped as {expected_shape} not as {pred.shape}')\n",
    "        return\n",
    "\n",
    "    print('Exercise 2: [OK]')\n",
    "    \n",
    "    if debug:\n",
    "        print(model)\n",
    "  \n",
    "test_exercise2()"
   ]
  },
  {
   "cell_type": "markdown",
   "metadata": {
    "id": "-cC1lU9CqmXe"
   },
   "source": [
    "--------------\n",
    "\n",
    "\n"
   ]
  },
  {
   "cell_type": "markdown",
   "metadata": {
    "id": "HXgegsomqmXe"
   },
   "source": [
    "## Exercise 3: Defining the loss function.\n",
    "To train a model, we need a `loss function <https://pytorch.org/docs/stable/nn.html#loss-functions>`. \n",
    "The MSE loss is not the usually selected one for classification problems. You should propose a better suited loss.\n",
    "\n"
   ]
  },
  {
   "cell_type": "code",
   "execution_count": 23,
   "metadata": {
    "colab": {
     "base_uri": "https://localhost:8080/"
    },
    "id": "MhiQYxufqmXf",
    "outputId": "fdd04138-78ce-4575-b403-bf4499132173"
   },
   "outputs": [
    {
     "name": "stdout",
     "output_type": "stream",
     "text": [
      "Exercise 3: [NOK]\n"
     ]
    }
   ],
   "source": [
    "def create_loss():\n",
    "    loss_fn = None\n",
    "    return loss_fn\n",
    "\n",
    "def test_exercise3():\n",
    "    loss_fn = create_loss()\n",
    "    if loss_fn is None:\n",
    "        print('Exercise 3: [NOK]')\n",
    "        if debug:\n",
    "            print(f'The loss should be {expected_loss} not as {loss}')\n",
    "        return\n",
    "    y = torch.arange(1,dtype=torch.long).to(device)\n",
    "    pred = torch.ones((1,10),dtype=float).to(device)\n",
    "    loss = loss_fn(pred, y).item()\n",
    "    expected_loss = np.log(10) # entropy of a random [0-9] source\n",
    "    if loss != expected_loss:\n",
    "        print('Exercise 3: [NOK]')\n",
    "        if debug:\n",
    "            print(f'The loss should be {expected_loss} not as {loss}')\n",
    "        return\n",
    "\n",
    "    print('Exercise 3: [OK]') \n",
    "\n",
    "test_exercise3()\n"
   ]
  },
  {
   "cell_type": "markdown",
   "metadata": {
    "id": "lAsVNHnpqmXf"
   },
   "source": [
    "### Exercise 4: Performing the optimization\n",
    "Getting inspired by the [Linear Regression example](#scrollTo=s4G-FSTAnTT8), complete the following function (single epoch) and launch the whole training procedure (remaining cells).\n"
   ]
  },
  {
   "cell_type": "code",
   "execution_count": 34,
   "metadata": {
    "id": "TJJoAfhsqmXf"
   },
   "outputs": [],
   "source": [
    "def perform_one_epoch(dataloader, model, loss_fn, optimizer):\n",
    "    size = len(dataloader.dataset)\n",
    "    model.train()\n",
    "    raise Exception('You need to complete the epoch update routine')"
   ]
  },
  {
   "cell_type": "markdown",
   "metadata": {
    "id": "-19lrVa3qmXg"
   },
   "source": [
    "We also check the model's performance against the test dataset to ensure it is learning.\n",
    "\n"
   ]
  },
  {
   "cell_type": "code",
   "execution_count": 26,
   "metadata": {
    "id": "oC5UVXgwqmXg"
   },
   "outputs": [],
   "source": [
    "def test(dataloader, model, loss_fn):\n",
    "    size = len(dataloader.dataset)\n",
    "    num_batches = len(dataloader)\n",
    "    model.eval()\n",
    "    test_loss, correct = 0, 0\n",
    "    with torch.no_grad():\n",
    "        for X, y in dataloader:\n",
    "            X, y = X.to(device), y.to(device)\n",
    "            pred = model(X)\n",
    "            test_loss += loss_fn(pred, y).item()\n",
    "            correct += (pred.argmax(1) == y).type(torch.float).sum().item()\n",
    "    test_loss /= num_batches\n",
    "    correct /= size\n",
    "    print(f\"Test Error: \\n Accuracy: {(100*correct):>0.1f}%, Avg loss: {test_loss:>8f} \\n\")"
   ]
  },
  {
   "cell_type": "markdown",
   "metadata": {
    "id": "9Fg7tsMeqmXh"
   },
   "source": [
    "The training process is conducted over several iterations (*epochs*). During each epoch, the model learns\n",
    "parameters to make better predictions. We print the model's accuracy and loss at each epoch; we'd like to see the\n",
    "accuracy increase and the loss decrease with every epoch.\n",
    "\n"
   ]
  },
  {
   "cell_type": "code",
   "execution_count": 27,
   "metadata": {
    "colab": {
     "base_uri": "https://localhost:8080/"
    },
    "id": "bU_zT4cjqmXh",
    "outputId": "95813132-f246-4611-e529-4022a4342955"
   },
   "outputs": [
    {
     "name": "stdout",
     "output_type": "stream",
     "text": [
      "Epoch 1\n",
      "-------------------------------\n",
      "loss: 2.303956  [    0/60000]\n",
      "loss: 2.293683  [ 6400/60000]\n",
      "loss: 2.284105  [12800/60000]\n",
      "loss: 2.276086  [19200/60000]\n",
      "loss: 2.258217  [25600/60000]\n",
      "loss: 2.236558  [32000/60000]\n",
      "loss: 2.239137  [38400/60000]\n",
      "loss: 2.213353  [44800/60000]\n",
      "loss: 2.210768  [51200/60000]\n",
      "loss: 2.178315  [57600/60000]\n",
      "Test Error: \n",
      " Accuracy: 45.3%, Avg loss: 2.174318 \n",
      "\n",
      "Epoch 2\n",
      "-------------------------------\n",
      "loss: 2.184904  [    0/60000]\n",
      "loss: 2.175675  [ 6400/60000]\n",
      "loss: 2.128336  [12800/60000]\n",
      "loss: 2.141005  [19200/60000]\n",
      "loss: 2.095470  [25600/60000]\n",
      "loss: 2.042057  [32000/60000]\n",
      "loss: 2.070466  [38400/60000]\n",
      "loss: 2.000316  [44800/60000]\n",
      "loss: 2.006389  [51200/60000]\n",
      "loss: 1.936662  [57600/60000]\n",
      "Test Error: \n",
      " Accuracy: 53.8%, Avg loss: 1.932366 \n",
      "\n",
      "Epoch 3\n",
      "-------------------------------\n",
      "loss: 1.967941  [    0/60000]\n",
      "loss: 1.937356  [ 6400/60000]\n",
      "loss: 1.829858  [12800/60000]\n",
      "loss: 1.860887  [19200/60000]\n",
      "loss: 1.761983  [25600/60000]\n",
      "loss: 1.711195  [32000/60000]\n",
      "loss: 1.736915  [38400/60000]\n",
      "loss: 1.633684  [44800/60000]\n",
      "loss: 1.663548  [51200/60000]\n",
      "loss: 1.556955  [57600/60000]\n",
      "Test Error: \n",
      " Accuracy: 58.9%, Avg loss: 1.567251 \n",
      "\n",
      "Epoch 4\n",
      "-------------------------------\n",
      "loss: 1.638976  [    0/60000]\n",
      "loss: 1.597303  [ 6400/60000]\n",
      "loss: 1.451338  [12800/60000]\n",
      "loss: 1.511560  [19200/60000]\n",
      "loss: 1.401099  [25600/60000]\n",
      "loss: 1.392689  [32000/60000]\n",
      "loss: 1.408696  [38400/60000]\n",
      "loss: 1.324701  [44800/60000]\n",
      "loss: 1.368070  [51200/60000]\n",
      "loss: 1.267160  [57600/60000]\n",
      "Test Error: \n",
      " Accuracy: 62.2%, Avg loss: 1.287150 \n",
      "\n",
      "Epoch 5\n",
      "-------------------------------\n",
      "loss: 1.367355  [    0/60000]\n",
      "loss: 1.344080  [ 6400/60000]\n",
      "loss: 1.184126  [12800/60000]\n",
      "loss: 1.277041  [19200/60000]\n",
      "loss: 1.161007  [25600/60000]\n",
      "loss: 1.184834  [32000/60000]\n",
      "loss: 1.203357  [38400/60000]\n",
      "loss: 1.134191  [44800/60000]\n",
      "loss: 1.180758  [51200/60000]\n",
      "loss: 1.098031  [57600/60000]\n",
      "Test Error: \n",
      " Accuracy: 64.0%, Avg loss: 1.113629 \n",
      "\n",
      "Epoch 6\n",
      "-------------------------------\n",
      "loss: 1.183649  [    0/60000]\n",
      "loss: 1.182868  [ 6400/60000]\n",
      "loss: 1.009336  [12800/60000]\n",
      "loss: 1.132189  [19200/60000]\n",
      "loss: 1.012543  [25600/60000]\n",
      "loss: 1.045258  [32000/60000]\n",
      "loss: 1.076088  [38400/60000]\n",
      "loss: 1.013959  [44800/60000]\n",
      "loss: 1.059957  [51200/60000]\n",
      "loss: 0.991574  [57600/60000]\n",
      "Test Error: \n",
      " Accuracy: 65.5%, Avg loss: 1.001973 \n",
      "\n",
      "Epoch 7\n",
      "-------------------------------\n",
      "loss: 1.056601  [    0/60000]\n",
      "loss: 1.077776  [ 6400/60000]\n",
      "loss: 0.889863  [12800/60000]\n",
      "loss: 1.036238  [19200/60000]\n",
      "loss: 0.919024  [25600/60000]\n",
      "loss: 0.945857  [32000/60000]\n",
      "loss: 0.992111  [38400/60000]\n",
      "loss: 0.935418  [44800/60000]\n",
      "loss: 0.976587  [51200/60000]\n",
      "loss: 0.920174  [57600/60000]\n",
      "Test Error: \n",
      " Accuracy: 67.0%, Avg loss: 0.925667 \n",
      "\n",
      "Epoch 8\n",
      "-------------------------------\n",
      "loss: 0.964016  [    0/60000]\n",
      "loss: 1.004569  [ 6400/60000]\n",
      "loss: 0.804318  [12800/60000]\n",
      "loss: 0.968352  [19200/60000]\n",
      "loss: 0.856254  [25600/60000]\n",
      "loss: 0.872101  [32000/60000]\n",
      "loss: 0.932689  [38400/60000]\n",
      "loss: 0.882499  [44800/60000]\n",
      "loss: 0.916461  [51200/60000]\n",
      "loss: 0.868776  [57600/60000]\n",
      "Test Error: \n",
      " Accuracy: 68.0%, Avg loss: 0.870581 \n",
      "\n",
      "Epoch 9\n",
      "-------------------------------\n",
      "loss: 0.893212  [    0/60000]\n",
      "loss: 0.950088  [ 6400/60000]\n",
      "loss: 0.740026  [12800/60000]\n",
      "loss: 0.917765  [19200/60000]\n",
      "loss: 0.811202  [25600/60000]\n",
      "loss: 0.815830  [32000/60000]\n",
      "loss: 0.887943  [38400/60000]\n",
      "loss: 0.845644  [44800/60000]\n",
      "loss: 0.871655  [51200/60000]\n",
      "loss: 0.829617  [57600/60000]\n",
      "Test Error: \n",
      " Accuracy: 69.2%, Avg loss: 0.828917 \n",
      "\n",
      "Epoch 10\n",
      "-------------------------------\n",
      "loss: 0.837046  [    0/60000]\n",
      "loss: 0.906757  [ 6400/60000]\n",
      "loss: 0.689732  [12800/60000]\n",
      "loss: 0.878844  [19200/60000]\n",
      "loss: 0.776809  [25600/60000]\n",
      "loss: 0.772285  [32000/60000]\n",
      "loss: 0.852121  [38400/60000]\n",
      "loss: 0.818744  [44800/60000]\n",
      "loss: 0.837258  [51200/60000]\n",
      "loss: 0.798397  [57600/60000]\n",
      "Test Error: \n",
      " Accuracy: 70.4%, Avg loss: 0.796085 \n",
      "\n",
      "Done!\n"
     ]
    }
   ],
   "source": [
    "epochs = 10\n",
    "model = create_MLP()\n",
    "optimizer = torch.optim.SGD(model.parameters(), lr=1e-3)\n",
    "loss_fn = create_loss()\n",
    "for t in range(epochs):\n",
    "    print(f\"Epoch {t+1}\\n-------------------------------\")\n",
    "    perform_one_epoch(train_dataloader, model, loss_fn, optimizer)\n",
    "    test(test_dataloader, model, loss_fn)\n",
    "print(\"Done!\")"
   ]
  },
  {
   "cell_type": "markdown",
   "metadata": {
    "id": "5UzkCGbnBe9T"
   },
   "source": [
    "### Exercise 5: Variants on Fashion Mnist\n",
    "In this exercise you will replace the MLP model by variants of the following CNN architecture.\n",
    "$$\n",
    "I\\in\\mathbb R^{28}\\otimes\\mathbb R^{28}  \n",
    "\\xrightarrow{\\mathrm{Conv3x3+ReLU+Pool}}{} \\mathbb R^{14}\\otimes\\mathbb R^{14}\\otimes\\mathbb R^{64}\n",
    "\\xrightarrow{\\mathrm{Conv3x3+ReLU+Pool}}{} \\mathbb R^{7}\\otimes\\mathbb R^{7}\\otimes\\mathbb R^{64}\n",
    "\\xrightarrow{\\mathrm{Conv3x3+ReLU+Flatten}}{} \\mathbb R^{490}\n",
    "\\xrightarrow{\\mathrm{Linear}}{} \\mathbb R^{n_c}\n",
    "$$\n",
    "\n",
    "You may consider the following variants:\n",
    "* Max vs Avg Pooling,\n",
    "* changing the padding of the convolutions,\n",
    "* changing 3x3 conv by larger or smaller convolutions\n",
    "* Playing with the number of channels of the hidden layers\n",
    "\n",
    "You will compare the different variants in terms of :\n",
    "* Classification accuracy\n",
    "* Computation throughput\n",
    "* Memory footprint both in terms of number of parameters, and activation maps"
   ]
  },
  {
   "cell_type": "code",
   "execution_count": null,
   "metadata": {},
   "outputs": [],
   "source": []
  }
 ],
 "metadata": {
  "accelerator": "GPU",
  "colab": {
   "collapsed_sections": [
    "NiRuJPJEpTbT",
    "s3IqanhvnTT1",
    "gQF2EGB482Rh",
    "7JTLBcHKnTT4",
    "IwThOdeCnTT4"
   ],
   "name": "DL_lab_3AISIA.ipynb",
   "provenance": []
  },
  "kernelspec": {
   "display_name": "Python 3",
   "language": "python",
   "name": "python3"
  },
  "language_info": {
   "codemirror_mode": {
    "name": "ipython",
    "version": 3
   },
   "file_extension": ".py",
   "mimetype": "text/x-python",
   "name": "python",
   "nbconvert_exporter": "python",
   "pygments_lexer": "ipython3",
   "version": "3.7.4"
  }
 },
 "nbformat": 4,
 "nbformat_minor": 1
}
