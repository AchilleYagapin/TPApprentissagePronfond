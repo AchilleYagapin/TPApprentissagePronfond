{
 "cells": [
  {
   "cell_type": "markdown",
   "metadata": {
    "id": "_8-YqueouC3p"
   },
   "source": [
    "----------------------------\n",
    "# Session 2 \n",
    "----------------------------"
   ]
  },
  {
   "cell_type": "code",
   "execution_count": 29,
   "metadata": {
    "colab": {
     "base_uri": "https://localhost:8080/"
    },
    "id": "SiG9GKTlTPeC",
    "outputId": "8999b0e4-4a75-4e95-9210-e3eece031ac3"
   },
   "outputs": [
    {
     "name": "stdout",
     "output_type": "stream",
     "text": [
      "Device : cuda\n"
     ]
    }
   ],
   "source": [
    "%matplotlib inline\n",
    "import torch\n",
    "import numpy as np\n",
    "if torch.cuda.is_available():\n",
    "    device = torch.device('cuda')\n",
    "else:\n",
    "    device = torch.device('cpu')\n",
    "print(f\"Device : {device}\")"
   ]
  },
  {
   "cell_type": "markdown",
   "metadata": {
    "id": "ifwtEcBknTT6"
   },
   "source": [
    "## Linear regression using PyTorch built-ins\n",
    "\n",
    "We've implemented linear regression & gradient descent model using some basic tensor operations. However, since this is a common pattern in deep learning, PyTorch provides several built-in functions and classes to make it easy to create and train models with just a few lines of code.\n",
    "\n",
    "Let's begin by importing the `torch.nn` package from PyTorch, which contains utility classes for building neural networks."
   ]
  },
  {
   "cell_type": "code",
   "execution_count": 30,
   "metadata": {
    "id": "cZvaMwb4nTT6"
   },
   "outputs": [],
   "source": [
    "import torch.nn as nn"
   ]
  },
  {
   "cell_type": "markdown",
   "metadata": {
    "id": "R6Q0ctuCnTT6"
   },
   "source": [
    "### Dataset and DataLoader\n",
    "\n",
    "We'll create a `TensorDataset`, which allows access to rows from `inputs` and `targets` as tuples, and provides standard APIs for working with many different types of datasets in PyTorch."
   ]
  },
  {
   "cell_type": "code",
   "execution_count": 31,
   "metadata": {
    "id": "Ilbt8aRKnTT6"
   },
   "outputs": [],
   "source": [
    "from torch.utils.data import TensorDataset"
   ]
  },
  {
   "cell_type": "code",
   "execution_count": 32,
   "metadata": {
    "cellView": "form",
    "id": "ZYTlFZV5TcN7"
   },
   "outputs": [],
   "source": [
    "#@title  the dataset as simple tensors\n",
    "# Input (temp, rainfall, humidity)\n",
    "inputs = np.array([[73, 67, 43], \n",
    "                   [91, 88, 64], \n",
    "                   [87, 134, 58], \n",
    "                   [102, 43, 37], \n",
    "                   [69, 96, 70], \n",
    "                   [74, 66, 43], \n",
    "                   [91, 87, 65], \n",
    "                   [88, 134, 59], \n",
    "                   [101, 44, 37], \n",
    "                   [68, 96, 71], \n",
    "                   [73, 66, 44], \n",
    "                   [92, 87, 64], \n",
    "                   [87, 135, 57], \n",
    "                   [103, 43, 36], \n",
    "                   [68, 97, 70]], \n",
    "                  dtype='float32')\n",
    "\n",
    "# Targets (apples, oranges)\n",
    "targets = np.array([[56, 70], \n",
    "                    [81, 101], \n",
    "                    [119, 133], \n",
    "                    [22, 37], \n",
    "                    [103, 119],\n",
    "                    [57, 69], \n",
    "                    [80, 102], \n",
    "                    [118, 132], \n",
    "                    [21, 38], \n",
    "                    [104, 118], \n",
    "                    [57, 69], \n",
    "                    [82, 100], \n",
    "                    [118, 134], \n",
    "                    [20, 38], \n",
    "                    [102, 120]], \n",
    "                   dtype='float32')\n",
    "\n",
    "inputs = torch.from_numpy(inputs)\n",
    "targets = torch.from_numpy(targets)"
   ]
  },
  {
   "cell_type": "code",
   "execution_count": 33,
   "metadata": {
    "colab": {
     "base_uri": "https://localhost:8080/"
    },
    "id": "XUzVuPNznTT6",
    "outputId": "83355a83-250a-41e3-cfdb-863ac71e2cd3"
   },
   "outputs": [
    {
     "data": {
      "text/plain": [
       "(tensor([[ 73.,  67.,  43.],\n",
       "         [ 91.,  88.,  64.],\n",
       "         [ 87., 134.,  58.]]),\n",
       " tensor([[ 56.,  70.],\n",
       "         [ 81., 101.],\n",
       "         [119., 133.]]))"
      ]
     },
     "execution_count": 33,
     "metadata": {},
     "output_type": "execute_result"
    }
   ],
   "source": [
    "# Define the dataset based on the Dataset interface \n",
    "train_ds = TensorDataset(inputs, targets)\n",
    "train_ds[0:3]"
   ]
  },
  {
   "cell_type": "markdown",
   "metadata": {
    "id": "nTN9tmCinTT6"
   },
   "source": [
    "The `TensorDataset` allows us to access a small section of the training data using the array indexing notation (`[0:3]` in the above code). It returns a tuple with two elements. The first element contains the input variables for the selected rows, and the second contains the targets."
   ]
  },
  {
   "cell_type": "markdown",
   "metadata": {
    "id": "RY9KCD5InTT6"
   },
   "source": [
    "We'll also create a `DataLoader`, which can split the data into batches of a predefined size while training. It also provides other utilities like shuffling and random sampling of the data."
   ]
  },
  {
   "cell_type": "code",
   "execution_count": 34,
   "metadata": {
    "id": "Ln7VxDopnTT6"
   },
   "outputs": [],
   "source": [
    "from torch.utils.data import DataLoader"
   ]
  },
  {
   "cell_type": "code",
   "execution_count": 35,
   "metadata": {
    "id": "RujVrFSpnTT7"
   },
   "outputs": [],
   "source": [
    "# Define data loader\n",
    "batch_size = 5\n",
    "train_dl = DataLoader(train_ds, batch_size, shuffle=True)"
   ]
  },
  {
   "cell_type": "markdown",
   "metadata": {
    "id": "_wiNLw91nTT7"
   },
   "source": [
    "We can use the data loader in a `for` loop. Let's look at an example."
   ]
  },
  {
   "cell_type": "code",
   "execution_count": 36,
   "metadata": {
    "colab": {
     "base_uri": "https://localhost:8080/"
    },
    "id": "jWQ_rmNenTT7",
    "outputId": "fcbe7d42-eea6-4f8c-bdba-12d38cc9d821"
   },
   "outputs": [
    {
     "name": "stdout",
     "output_type": "stream",
     "text": [
      "tensor([[ 92.,  87.,  64.],\n",
      "        [ 87., 134.,  58.],\n",
      "        [101.,  44.,  37.],\n",
      "        [ 68.,  97.,  70.],\n",
      "        [ 69.,  96.,  70.]])\n",
      "tensor([[ 82., 100.],\n",
      "        [119., 133.],\n",
      "        [ 21.,  38.],\n",
      "        [102., 120.],\n",
      "        [103., 119.]])\n"
     ]
    }
   ],
   "source": [
    "for xb, yb in train_dl:\n",
    "    print(xb)\n",
    "    print(yb)\n",
    "    break"
   ]
  },
  {
   "cell_type": "markdown",
   "metadata": {
    "id": "hOaqVznxnTT7"
   },
   "source": [
    "In each iteration, the data loader returns one batch of data with the given batch size. If `shuffle` is set to `True`, it shuffles the training data before creating batches. Shuffling helps randomize the input to the optimization algorithm, leading to a faster reduction in the loss."
   ]
  },
  {
   "cell_type": "markdown",
   "metadata": {
    "id": "Kt2US8ZVnTT7"
   },
   "source": [
    "### nn.Linear\n",
    "\n",
    "Instead of initializing the weights & biases manually, we can define the model using the `nn.Linear` class from PyTorch, which does it automatically."
   ]
  },
  {
   "cell_type": "code",
   "execution_count": 37,
   "metadata": {
    "colab": {
     "base_uri": "https://localhost:8080/"
    },
    "id": "zo2YVY8unTT7",
    "outputId": "4a7d027b-1786-4269-c66e-6d4edf661048"
   },
   "outputs": [
    {
     "name": "stdout",
     "output_type": "stream",
     "text": [
      "Parameter containing:\n",
      "tensor([[-0.3514,  0.5044, -0.4204],\n",
      "        [ 0.5111,  0.4740, -0.3133]], requires_grad=True)\n",
      "Parameter containing:\n",
      "tensor([-0.0957, -0.5772], requires_grad=True)\n"
     ]
    }
   ],
   "source": [
    "# Define model\n",
    "model = nn.Linear(3, 2)\n",
    "print(model.weight)\n",
    "print(model.bias)"
   ]
  },
  {
   "cell_type": "markdown",
   "metadata": {
    "id": "CUIEeKxLnTT7"
   },
   "source": [
    "PyTorch models also have a helpful `.parameters` method, which returns a list containing all the weights and bias matrices present in the model. For our linear regression model, we have one weight matrix and one bias matrix."
   ]
  },
  {
   "cell_type": "code",
   "execution_count": 38,
   "metadata": {
    "colab": {
     "base_uri": "https://localhost:8080/"
    },
    "id": "r5HQ9vwdnTT7",
    "outputId": "3ec87de9-483c-42ac-ba6c-1a858aea1586"
   },
   "outputs": [
    {
     "data": {
      "text/plain": [
       "[Parameter containing:\n",
       " tensor([[-0.3514,  0.5044, -0.4204],\n",
       "         [ 0.5111,  0.4740, -0.3133]], requires_grad=True),\n",
       " Parameter containing:\n",
       " tensor([-0.0957, -0.5772], requires_grad=True)]"
      ]
     },
     "execution_count": 38,
     "metadata": {},
     "output_type": "execute_result"
    }
   ],
   "source": [
    "# Parameters\n",
    "list(model.parameters())"
   ]
  },
  {
   "cell_type": "markdown",
   "metadata": {
    "id": "iwKcHBRznTT7"
   },
   "source": [
    "We can use the model to generate predictions in the same way as before."
   ]
  },
  {
   "cell_type": "code",
   "execution_count": 39,
   "metadata": {
    "colab": {
     "base_uri": "https://localhost:8080/"
    },
    "id": "aQJUtX9cnTT7",
    "outputId": "b01ba268-a168-4c0b-8c0f-c9c005b0f33d"
   },
   "outputs": [
    {
     "data": {
      "text/plain": [
       "tensor([[-10.0295,  55.0169],\n",
       "        [-14.5904,  67.5909],\n",
       "        [ 12.5405,  89.2311],\n",
       "        [-29.8039,  60.3409],\n",
       "        [ -5.3465,  58.2601],\n",
       "        [-10.8853,  55.0540],\n",
       "        [-15.5152,  66.8036],\n",
       "        [ 11.7687,  89.4289],\n",
       "        [-28.9480,  60.3039],\n",
       "        [ -5.4154,  57.4357],\n",
       "        [-10.9543,  54.2296],\n",
       "        [-15.4462,  67.6280],\n",
       "        [ 13.4653,  90.0184],\n",
       "        [-29.7349,  61.1653],\n",
       "        [ -4.4906,  58.2230]], grad_fn=<AddmmBackward0>)"
      ]
     },
     "execution_count": 39,
     "metadata": {},
     "output_type": "execute_result"
    }
   ],
   "source": [
    "# Generate predictions\n",
    "preds = model(inputs)\n",
    "preds"
   ]
  },
  {
   "cell_type": "markdown",
   "metadata": {
    "id": "_GEW6PaCnTT7"
   },
   "source": [
    "### Loss Function\n",
    "\n",
    "Instead of defining a loss function manually, we can use the built-in loss function `mse_loss`."
   ]
  },
  {
   "cell_type": "code",
   "execution_count": 40,
   "metadata": {
    "id": "vBtR_zwAnTT7"
   },
   "outputs": [],
   "source": [
    "# Import nn.functional\n",
    "import torch.nn.functional as F"
   ]
  },
  {
   "cell_type": "markdown",
   "metadata": {
    "id": "dof53gOVnTT7"
   },
   "source": [
    "The `nn.functional` package contains many useful loss functions and several other utilities. "
   ]
  },
  {
   "cell_type": "code",
   "execution_count": 41,
   "metadata": {
    "id": "rRDSPR-7nTT7"
   },
   "outputs": [],
   "source": [
    "# Define loss function\n",
    "loss_fn = F.mse_loss"
   ]
  },
  {
   "cell_type": "markdown",
   "metadata": {
    "id": "jcaVT6V-nTT7"
   },
   "source": [
    "Let's compute the loss for the current predictions of our model."
   ]
  },
  {
   "cell_type": "code",
   "execution_count": 42,
   "metadata": {
    "colab": {
     "base_uri": "https://localhost:8080/"
    },
    "id": "MOfR_XE-nTT7",
    "outputId": "bdd11032-4f45-4d50-b93b-bd621b3bd2b2"
   },
   "outputs": [
    {
     "name": "stdout",
     "output_type": "stream",
     "text": [
      "tensor(4668.2261, grad_fn=<MseLossBackward0>)\n"
     ]
    }
   ],
   "source": [
    "loss = loss_fn(model(inputs), targets)\n",
    "print(loss)"
   ]
  },
  {
   "cell_type": "markdown",
   "metadata": {
    "id": "NchjNa8VnTT7"
   },
   "source": [
    "### Optimizer\n",
    "\n",
    "Instead of manually manipulating the model's weights & biases using gradients, we can use the optimizer `optim.SGD`. SGD is short for \"stochastic gradient descent\". The term _stochastic_ indicates that samples are selected in random batches instead of as a single group. Since the group can be larger than a single element, it corresponds to SGD with _minibatch_. In fact, the `optimizer` is not responsible for loading batches, as this aspect is handled by the `DataLoader`."
   ]
  },
  {
   "cell_type": "code",
   "execution_count": 43,
   "metadata": {
    "id": "T3kLIKfqnTT7"
   },
   "outputs": [],
   "source": [
    "# Define optimizer\n",
    "opt = torch.optim.SGD(model.parameters(), lr=1e-5)"
   ]
  },
  {
   "cell_type": "markdown",
   "metadata": {
    "id": "ACDhnpd3nTT8"
   },
   "source": [
    "Note that `model.parameters()` is passed as an argument to `optim.SGD` so that the optimizer knows which matrices should be modified during the update step. Also, we can specify a learning rate that controls the amount by which the parameters are modified."
   ]
  },
  {
   "cell_type": "markdown",
   "metadata": {
    "id": "eFfOxwMjnTT8"
   },
   "source": [
    "## Exercise 1: Train the model\n",
    "\n",
    "We are now ready to train the model. We'll follow the same process to implement gradient descent:\n",
    "\n",
    "1. Generate predictions\n",
    "\n",
    "2. Calculate the loss\n",
    "\n",
    "3. Compute gradients w.r.t the weights and biases\n",
    "\n",
    "4. Adjust the weights by subtracting a small quantity proportional to the gradient\n",
    "\n",
    "5. Reset the gradients to zero\n",
    "\n",
    "The only change is that we'll work batches of data instead of processing the entire training data in every iteration. Let's define a utility function `fit` that trains the model for a given number of epochs."
   ]
  },
  {
   "cell_type": "code",
   "execution_count": 44,
   "metadata": {
    "id": "s4G-FSTAnTT8"
   },
   "outputs": [],
   "source": [
    "# Utility function to train the model\n",
    "def train_with_MiniBatchSGD(num_epochs, model, loss_fn, opt, train_dl):\n",
    "    \n",
    "    # Repeat for given number of epochs\n",
    "    for epoch in range(num_epochs):\n",
    "        \n",
    "        # Train with batches of data\n",
    "        for xb,yb in train_dl:\n",
    "            \n",
    "            # 1. Generate predictions\n",
    "            pred = model(xb)\n",
    "            \n",
    "            # 2. Calculate loss\n",
    "            loss = loss_fn(pred, yb)\n",
    "            \n",
    "            # 3. Compute gradients\n",
    "            loss.backward()\n",
    "            \n",
    "            # 4. Update parameters using gradients\n",
    "            opt.step()\n",
    "            \n",
    "            # 5. Reset the gradients to zero\n",
    "            opt.zero_grad()\n",
    "        \n",
    "        # Print the progress\n",
    "        if (epoch+1) % 10 == 0:\n",
    "            print('Epoch [{}/{}], Loss: {:.4f}'.format(epoch+1, num_epochs, loss.item()))"
   ]
  },
  {
   "cell_type": "markdown",
   "metadata": {
    "id": "JsIQmUfvnTT8"
   },
   "source": [
    "Some things to note above:\n",
    "\n",
    "* We use the data loader defined earlier to get batches of data for every iteration.\n",
    "\n",
    "* Instead of updating parameters (weights and biases) manually, we use `opt.step` to perform the update and `opt.zero_grad` to reset the gradients to zero.\n",
    "\n",
    "* We've also added a log statement that prints the loss from the last batch of data for every 10th epoch to track training progress. `loss.item` returns the actual value stored in the loss tensor.\n",
    "\n",
    "Let's train the model for 100 epochs."
   ]
  },
  {
   "cell_type": "code",
   "execution_count": 45,
   "metadata": {
    "colab": {
     "base_uri": "https://localhost:8080/"
    },
    "id": "QL9O4M3knTT8",
    "outputId": "28ec9b0c-847b-476d-8ebf-60bc13e6bb76"
   },
   "outputs": [
    {
     "name": "stdout",
     "output_type": "stream",
     "text": [
      "Epoch [10/100], Loss: 208.6473\n",
      "Epoch [20/100], Loss: 233.1892\n",
      "Epoch [30/100], Loss: 110.9690\n",
      "Epoch [40/100], Loss: 217.2112\n",
      "Epoch [50/100], Loss: 127.5328\n",
      "Epoch [60/100], Loss: 155.2694\n",
      "Epoch [70/100], Loss: 56.6911\n",
      "Epoch [80/100], Loss: 39.4666\n",
      "Epoch [90/100], Loss: 100.3450\n",
      "Epoch [100/100], Loss: 52.3311\n"
     ]
    }
   ],
   "source": [
    "train_with_MiniBatchSGD(100, model, loss_fn, opt, train_dl)"
   ]
  },
  {
   "cell_type": "markdown",
   "metadata": {
    "id": "ACqBspYSnTT8"
   },
   "source": [
    "Let's generate predictions using our model and verify that they're close to our targets."
   ]
  },
  {
   "cell_type": "code",
   "execution_count": 46,
   "metadata": {
    "colab": {
     "base_uri": "https://localhost:8080/"
    },
    "id": "MIJJvhEPnTT8",
    "outputId": "5e7e6d8d-3e5a-4e32-8dfc-db58894711bb"
   },
   "outputs": [
    {
     "data": {
      "text/plain": [
       "tensor([[ 58.0228,  72.1298],\n",
       "        [ 77.9809,  95.7628],\n",
       "        [126.7385, 141.8354],\n",
       "        [ 25.8197,  47.0301],\n",
       "        [ 91.7990, 104.5955],\n",
       "        [ 56.7492,  71.1121],\n",
       "        [ 77.0168,  94.8579],\n",
       "        [126.6050, 141.9446],\n",
       "        [ 27.0933,  48.0478],\n",
       "        [ 92.1085, 104.7083],\n",
       "        [ 57.0587,  71.2249],\n",
       "        [ 76.7073,  94.7451],\n",
       "        [127.7026, 142.7403],\n",
       "        [ 25.5102,  46.9173],\n",
       "        [ 93.0726, 105.6132]], grad_fn=<AddmmBackward0>)"
      ]
     },
     "execution_count": 46,
     "metadata": {},
     "output_type": "execute_result"
    }
   ],
   "source": [
    "# Generate predictions\n",
    "preds = model(inputs)\n",
    "preds"
   ]
  },
  {
   "cell_type": "code",
   "execution_count": 47,
   "metadata": {
    "colab": {
     "base_uri": "https://localhost:8080/"
    },
    "id": "6p4YjlHHnTT8",
    "outputId": "0576874f-70a3-4f97-b540-6eb5b8ceb176"
   },
   "outputs": [
    {
     "data": {
      "text/plain": [
       "tensor([[ 56.,  70.],\n",
       "        [ 81., 101.],\n",
       "        [119., 133.],\n",
       "        [ 22.,  37.],\n",
       "        [103., 119.],\n",
       "        [ 57.,  69.],\n",
       "        [ 80., 102.],\n",
       "        [118., 132.],\n",
       "        [ 21.,  38.],\n",
       "        [104., 118.],\n",
       "        [ 57.,  69.],\n",
       "        [ 82., 100.],\n",
       "        [118., 134.],\n",
       "        [ 20.,  38.],\n",
       "        [102., 120.]])"
      ]
     },
     "execution_count": 47,
     "metadata": {},
     "output_type": "execute_result"
    }
   ],
   "source": [
    "# Compare with targets\n",
    "targets"
   ]
  },
  {
   "cell_type": "markdown",
   "metadata": {
    "id": "tjA8xLw_nTT8"
   },
   "source": [
    "Indeed, the predictions are quite close to our targets. We have a trained a reasonably good model to predict crop yields for apples and oranges by looking at the average temperature, rainfall, and humidity in a region. We can use it to make predictions of crop yields for new regions by passing a batch containing a single row of input."
   ]
  },
  {
   "cell_type": "code",
   "execution_count": 48,
   "metadata": {
    "colab": {
     "base_uri": "https://localhost:8080/"
    },
    "id": "p5B9idWGnTT8",
    "outputId": "16e5d7dc-dd9e-438a-c391-02d7375040f1"
   },
   "outputs": [
    {
     "name": "stdout",
     "output_type": "stream",
     "text": [
      "tensor([[53.4592, 68.1736]])\n"
     ]
    }
   ],
   "source": [
    "with torch.no_grad():\n",
    "    print(model(torch.tensor([[75, 63, 44.]])))"
   ]
  },
  {
   "cell_type": "markdown",
   "metadata": {
    "id": "pMWc-n3L-eV_"
   },
   "source": [
    "## Training an MLP classifier on FashionMNIST\n",
    "FashionMNIST is a classification benchmark, where images are associated to classes. In this exercise, you shall have to adapt the linear regression to this context. The main adaptation steps are as follows:\n",
    "* Change the dataset (using TorchVision)\n",
    "* Replace the mere linear model by an MLP\n",
    "* Change the MSE loss to a CrossEntropy loss"
   ]
  },
  {
   "cell_type": "markdown",
   "metadata": {
    "id": "aRI-NwO0qmXV"
   },
   "source": [
    "\n",
    "### Working with data\n",
    "Remember that PyTorch has two `primitives to work with data <https://pytorch.org/docs/stable/data.html>`_:\n",
    "``torch.utils.data.DataLoader`` and ``torch.utils.data.Dataset``.\n",
    "``Dataset`` stores the samples and their corresponding labels, and ``DataLoader`` wraps an iterable around\n",
    "the ``Dataset``.\n",
    "\n",
    "PyTorch offers domain-specific libraries such as `TorchText <https://pytorch.org/text/stable/index.html>`_,\n",
    "`TorchVision <https://pytorch.org/vision/stable/index.html>`_, and `TorchAudio <https://pytorch.org/audio/stable/index.html>`_,\n",
    "all of which include datasets. For this tutorial, we  will be using a TorchVision dataset.\n",
    "\n",
    "The ``torchvision.datasets`` module contains ``Dataset`` objects for many real-world vision data like\n",
    "CIFAR, COCO (`full list here <https://pytorch.org/vision/stable/datasets.html>`_). In this tutorial, we\n",
    "use the FashionMNIST dataset. \n",
    "Each training and test example is assigned to one of the following labels:\n",
    "\n",
    "| Label | Description |\n",
    "| --- | --- |\n",
    "| 0 | T-shirt/top |\n",
    "| 1 | Trouser |\n",
    "| 2 | Pullover |\n",
    "| 3 | Dress |\n",
    "| 4 | Coat |\n",
    "| 5 | Sandal |\n",
    "| 6 | Shirt |\n",
    "| 7 | Sneaker |\n",
    "| 8 | Bag |\n",
    "| 9 | Ankle boot |\n",
    "\n",
    "\n",
    "\n",
    "Every TorchVision ``Dataset`` includes an argument: ``transform``\n",
    " to modify the samples.\n",
    "\n",
    "\n"
   ]
  },
  {
   "cell_type": "code",
   "execution_count": 49,
   "metadata": {
    "id": "Myk5PX3vqmXa"
   },
   "outputs": [],
   "source": [
    "# Import TorchVision utilities\n",
    "from torchvision import datasets\n",
    "from torchvision.transforms import ToTensor, Lambda, Compose\n",
    "\n",
    "# Download training data from open datasets.\n",
    "training_data = datasets.FashionMNIST(\n",
    "    root=\"data\",\n",
    "    train=True,\n",
    "    download=True,\n",
    "    transform=ToTensor(),\n",
    ")\n",
    "\n",
    "# Download test data from open datasets.\n",
    "test_data = datasets.FashionMNIST(\n",
    "    root=\"data\",\n",
    "    train=False,\n",
    "    download=True,\n",
    "    transform=ToTensor(),\n",
    ")"
   ]
  },
  {
   "cell_type": "markdown",
   "metadata": {
    "id": "z4q4DfnEqmXa"
   },
   "source": [
    "We pass the ``Dataset`` as an argument to ``DataLoader``. This wraps an iterable over our dataset, and supports\n",
    "automatic batching, sampling, shuffling and multiprocess data loading. Here we define a batch size of 64, i.e. each element\n",
    "in the dataloader iterable will return a batch of 64 features and labels.\n",
    "\n"
   ]
  },
  {
   "cell_type": "code",
   "execution_count": 50,
   "metadata": {
    "colab": {
     "base_uri": "https://localhost:8080/"
    },
    "id": "j9_YvmGhqmXb",
    "outputId": "4cc84ba0-6f5e-4e90-d716-b6f3ee04de54"
   },
   "outputs": [
    {
     "name": "stdout",
     "output_type": "stream",
     "text": [
      "Shape of X [N, C, H, W]:  torch.Size([64, 1, 28, 28])\n",
      "Shape of y:  torch.Size([64]) torch.int64\n"
     ]
    }
   ],
   "source": [
    "batch_size = 64\n",
    "\n",
    "# Create data loaders.\n",
    "train_dataloader = DataLoader(training_data, batch_size=batch_size)\n",
    "test_dataloader = DataLoader(test_data, batch_size=batch_size)\n",
    "\n",
    "# Get one batch of data and print its tensor shape\n",
    "X,y = next(iter(train_dataloader))\n",
    "print(\"Shape of X [N, C, H, W]: \", X.shape)\n",
    "print(\"Shape of y: \", y.shape, y.dtype)"
   ]
  },
  {
   "cell_type": "markdown",
   "metadata": {
    "id": "8Tl2PoDsqmXc"
   },
   "source": [
    "--------------\n",
    "\n",
    "\n"
   ]
  },
  {
   "cell_type": "markdown",
   "metadata": {
    "id": "-_4pCW0HqmXd"
   },
   "source": [
    "## Exercise 2: Creating  the MLP model\n",
    "\n",
    "To define a MLP, you may rely on `nn.Sequential <https://pytorch.org/docs/stable/generated/torch.nn.Sequential.html>`. It implements a sequential container modules made from a sequence of `nn.Module`. The goal here is to have the following sequence:\n",
    "\n",
    "$$\n",
    "I\\in\\mathbb R^{28}\\otimes\\mathbb R^{28}  \n",
    "\\xrightarrow{\\mathrm{flatten}}{} \\mathbb R^{28\\times 28}=\\mathbb R^{784}\n",
    "\\xrightarrow{\\mathrm{Linear+ReLU}}{} \\mathbb R^{512}\n",
    "\\xrightarrow{\\mathrm{Linear+ReLU}}{} \\mathbb R^{512}\n",
    "\\xrightarrow{\\mathrm{Linear}}{} \\mathbb R^{n_c}\n",
    "$$\n",
    "\n",
    "You shall implement this archticture, and determine what is the logical value for $n_c$ in our settings."
   ]
  },
  {
   "cell_type": "code",
   "execution_count": 51,
   "metadata": {
    "colab": {
     "base_uri": "https://localhost:8080/"
    },
    "id": "yJKIqGvfqmXd",
    "outputId": "1736356a-8142-4c9a-b191-a5702f9e639c"
   },
   "outputs": [
    {
     "name": "stdout",
     "output_type": "stream",
     "text": [
      "Exercise 2: [OK]\n"
     ]
    }
   ],
   "source": [
    "debug = False\n",
    "def create_MLP():\n",
    "    model = nn.Sequential(\n",
    "        nn.Flatten(),nn.Linear(784, 512),nn.ReLU(),nn.Linear(512, 512),nn.ReLU(),nn.Linear(512, 10)).to(device)\n",
    "    return model\n",
    "\n",
    "def test_exercise2():\n",
    "    model = create_MLP()\n",
    "    if not isinstance(model, nn.Sequential):\n",
    "        print('Exercise 2: [NOK]')\n",
    "        if debug:\n",
    "            print(f'The model should be a nn.Sequential instance not {type(model)}')\n",
    "        return\n",
    "    if len(model) != 6:\n",
    "        print('Exercise 2: [NOK]')\n",
    "        if debug:\n",
    "            print(f'The model should be 6 layers not {len(mode)}')\n",
    "        return\n",
    "    model_device = next(model.parameters()).device\n",
    "    expected_device = torch.empty(1).to(device).device\n",
    "    if model_device != expected_device:\n",
    "        print('Exercise 2: [NOK]')\n",
    "        if debug:\n",
    "            print(f'The model should run on {expected_device} not on {model_device}')\n",
    "        return\n",
    "    \n",
    "    X,y = next(iter(train_dataloader))\n",
    "    pred = model(X.to(device))\n",
    "    expected_shape = torch.Size((batch_size, 10))\n",
    "    if pred.shape != expected_shape:\n",
    "        print('Exercise 2: [NOK]')\n",
    "        if debug:\n",
    "            print(f'The model predictions should be shaped as {expected_shape} not as {pred.shape}')\n",
    "        return\n",
    "\n",
    "    print('Exercise 2: [OK]')\n",
    "    \n",
    "    if debug:\n",
    "        print(model)\n",
    "  \n",
    "test_exercise2()"
   ]
  },
  {
   "cell_type": "markdown",
   "metadata": {
    "id": "-cC1lU9CqmXe"
   },
   "source": [
    "--------------\n",
    "\n",
    "\n"
   ]
  },
  {
   "cell_type": "markdown",
   "metadata": {
    "id": "HXgegsomqmXe"
   },
   "source": [
    "## Exercise 3: Defining the loss function.\n",
    "To train a model, we need a `loss function <https://pytorch.org/docs/stable/nn.html#loss-functions>`. \n",
    "The MSE loss is not the usually selected one for classification problems. You should propose a better suited loss.\n",
    "\n"
   ]
  },
  {
   "cell_type": "code",
   "execution_count": 52,
   "metadata": {
    "colab": {
     "base_uri": "https://localhost:8080/"
    },
    "id": "MhiQYxufqmXf",
    "outputId": "fdd04138-78ce-4575-b403-bf4499132173"
   },
   "outputs": [
    {
     "name": "stdout",
     "output_type": "stream",
     "text": [
      "Exercise 3: [OK]\n"
     ]
    }
   ],
   "source": [
    "def create_loss():\n",
    "    loss_fn = nn.CrossEntropyLoss()\n",
    "    return loss_fn\n",
    "\n",
    "def test_exercise3():\n",
    "    loss_fn = create_loss()\n",
    "    if loss_fn is None:\n",
    "        print('Exercise 3: [NOK]')\n",
    "        if debug:\n",
    "            print(f'The loss should be {expected_loss} not as {loss}')\n",
    "        return\n",
    "    y = torch.arange(1,dtype=torch.long).to(device)\n",
    "    pred = torch.ones((1,10),dtype=float).to(device)\n",
    "    loss = loss_fn(pred, y).item()\n",
    "    expected_loss = np.log(10) # entropy of a random [0-9] source\n",
    "    if abs(loss-expected_loss) > 1e-5:\n",
    "        print('Exercise 3: [NOK]')\n",
    "        if debug:\n",
    "            print(f'The loss should be {expected_loss} not as {loss}')\n",
    "        return\n",
    "\n",
    "    print('Exercise 3: [OK]') \n",
    "\n",
    "test_exercise3()\n"
   ]
  },
  {
   "cell_type": "markdown",
   "metadata": {
    "id": "lAsVNHnpqmXf"
   },
   "source": [
    "### Exercise 4: Performing the optimization\n",
    "Getting inspired by the [Linear Regression example](#scrollTo=s4G-FSTAnTT8), complete the following function (single epoch) and launch the whole training procedure (remaining cells).\n"
   ]
  },
  {
   "cell_type": "code",
   "execution_count": 53,
   "metadata": {
    "id": "TJJoAfhsqmXf"
   },
   "outputs": [],
   "source": [
    "def perform_one_epoch(dataloader, model, loss_fn, optimizer):\n",
    "    size = len(dataloader.dataset)\n",
    "    model.train()\n",
    "    \n",
    "    for batch,(xb,yb) in enumerate(dataloader):\n",
    "        device = next(model.parameters()).device\n",
    "        xb = xb.to(device)\n",
    "        yb = yb.to(device)\n",
    "        # 1. Generate predictions\n",
    "        pred = model(xb)\n",
    "            \n",
    "        # 2. Calculate loss\n",
    "        loss = loss_fn(pred, yb)\n",
    "            \n",
    "        # 3. Compute gradients\n",
    "        loss.backward()\n",
    "            \n",
    "        # 4. Update parameters using gradients\n",
    "        optimizer.step()\n",
    "            \n",
    "        # 5. Reset the gradients to zero\n",
    "        optimizer.zero_grad()\n",
    "        \n",
    "        if batch % 100 == 0:\n",
    "            loss, current = loss.item(), batch * len(xb)\n",
    "            print(f\"loss: {loss:>7f}  [{current:>5d}/{size:>5d}]\")"
   ]
  },
  {
   "cell_type": "markdown",
   "metadata": {
    "id": "-19lrVa3qmXg"
   },
   "source": [
    "We also check the model's performance against the test dataset to ensure it is learning.\n",
    "\n"
   ]
  },
  {
   "cell_type": "code",
   "execution_count": 54,
   "metadata": {
    "id": "oC5UVXgwqmXg"
   },
   "outputs": [],
   "source": [
    "def test(dataloader, model, loss_fn):\n",
    "    size = len(dataloader.dataset)\n",
    "    num_batches = len(dataloader)\n",
    "    model.eval()\n",
    "    test_loss, correct = 0, 0\n",
    "    with torch.no_grad():\n",
    "        for X, y in dataloader:\n",
    "            X, y = X.to(device), y.to(device)\n",
    "            pred = model(X)\n",
    "            test_loss += loss_fn(pred, y).item()\n",
    "            correct += (pred.argmax(1) == y).type(torch.float).sum().item()\n",
    "    test_loss /= num_batches\n",
    "    correct /= size\n",
    "    print(f\"Test Error: \\n Accuracy: {(100*correct):>0.1f}%, Avg loss: {test_loss:>8f} \\n\")"
   ]
  },
  {
   "cell_type": "markdown",
   "metadata": {
    "id": "9Fg7tsMeqmXh"
   },
   "source": [
    "The training process is conducted over several iterations (*epochs*). During each epoch, the model learns\n",
    "parameters to make better predictions. We print the model's accuracy and loss at each epoch; we'd like to see the\n",
    "accuracy increase and the loss decrease with every epoch.\n",
    "\n"
   ]
  },
  {
   "cell_type": "code",
   "execution_count": 55,
   "metadata": {
    "colab": {
     "base_uri": "https://localhost:8080/"
    },
    "id": "bU_zT4cjqmXh",
    "outputId": "95813132-f246-4611-e529-4022a4342955"
   },
   "outputs": [
    {
     "name": "stdout",
     "output_type": "stream",
     "text": [
      "Epoch 1\n",
      "-------------------------------\n",
      "loss: 2.298928  [    0/60000]\n",
      "loss: 2.293035  [ 6400/60000]\n",
      "loss: 2.272373  [12800/60000]\n",
      "loss: 2.272045  [19200/60000]\n",
      "loss: 2.244725  [25600/60000]\n",
      "loss: 2.212174  [32000/60000]\n",
      "loss: 2.216112  [38400/60000]\n",
      "loss: 2.178238  [44800/60000]\n"
     ]
    },
    {
     "ename": "KeyboardInterrupt",
     "evalue": "",
     "output_type": "error",
     "traceback": [
      "\u001b[0;31m---------------------------------------------------------------------------\u001b[0m",
      "\u001b[0;31mKeyboardInterrupt\u001b[0m                         Traceback (most recent call last)",
      "Cell \u001b[0;32mIn[55], line 7\u001b[0m\n\u001b[1;32m      5\u001b[0m \u001b[38;5;28;01mfor\u001b[39;00m t \u001b[38;5;129;01min\u001b[39;00m \u001b[38;5;28mrange\u001b[39m(epochs):\n\u001b[1;32m      6\u001b[0m     \u001b[38;5;28mprint\u001b[39m(\u001b[38;5;124mf\u001b[39m\u001b[38;5;124m\"\u001b[39m\u001b[38;5;124mEpoch \u001b[39m\u001b[38;5;132;01m{\u001b[39;00mt\u001b[38;5;241m+\u001b[39m\u001b[38;5;241m1\u001b[39m\u001b[38;5;132;01m}\u001b[39;00m\u001b[38;5;130;01m\\n\u001b[39;00m\u001b[38;5;124m-------------------------------\u001b[39m\u001b[38;5;124m\"\u001b[39m)\n\u001b[0;32m----> 7\u001b[0m     \u001b[43mperform_one_epoch\u001b[49m\u001b[43m(\u001b[49m\u001b[43mtrain_dataloader\u001b[49m\u001b[43m,\u001b[49m\u001b[43m \u001b[49m\u001b[43mmodel\u001b[49m\u001b[43m,\u001b[49m\u001b[43m \u001b[49m\u001b[43mloss_fn\u001b[49m\u001b[43m,\u001b[49m\u001b[43m \u001b[49m\u001b[43moptimizer\u001b[49m\u001b[43m)\u001b[49m\n\u001b[1;32m      8\u001b[0m     test(test_dataloader, model, loss_fn)\n\u001b[1;32m      9\u001b[0m \u001b[38;5;28mprint\u001b[39m(\u001b[38;5;124m\"\u001b[39m\u001b[38;5;124mDone!\u001b[39m\u001b[38;5;124m\"\u001b[39m)\n",
      "Cell \u001b[0;32mIn[53], line 10\u001b[0m, in \u001b[0;36mperform_one_epoch\u001b[0;34m(dataloader, model, loss_fn, optimizer)\u001b[0m\n\u001b[1;32m      8\u001b[0m yb \u001b[38;5;241m=\u001b[39m yb\u001b[38;5;241m.\u001b[39mto(device)\n\u001b[1;32m      9\u001b[0m \u001b[38;5;66;03m# 1. Generate predictions\u001b[39;00m\n\u001b[0;32m---> 10\u001b[0m pred \u001b[38;5;241m=\u001b[39m \u001b[43mmodel\u001b[49m\u001b[43m(\u001b[49m\u001b[43mxb\u001b[49m\u001b[43m)\u001b[49m\n\u001b[1;32m     12\u001b[0m \u001b[38;5;66;03m# 2. Calculate loss\u001b[39;00m\n\u001b[1;32m     13\u001b[0m loss \u001b[38;5;241m=\u001b[39m loss_fn(pred, yb)\n",
      "File \u001b[0;32m~/.local/lib/python3.10/site-packages/torch/nn/modules/module.py:1739\u001b[0m, in \u001b[0;36mModule._wrapped_call_impl\u001b[0;34m(self, *args, **kwargs)\u001b[0m\n\u001b[1;32m   1737\u001b[0m     \u001b[38;5;28;01mreturn\u001b[39;00m \u001b[38;5;28mself\u001b[39m\u001b[38;5;241m.\u001b[39m_compiled_call_impl(\u001b[38;5;241m*\u001b[39margs, \u001b[38;5;241m*\u001b[39m\u001b[38;5;241m*\u001b[39mkwargs)  \u001b[38;5;66;03m# type: ignore[misc]\u001b[39;00m\n\u001b[1;32m   1738\u001b[0m \u001b[38;5;28;01melse\u001b[39;00m:\n\u001b[0;32m-> 1739\u001b[0m     \u001b[38;5;28;01mreturn\u001b[39;00m \u001b[38;5;28;43mself\u001b[39;49m\u001b[38;5;241;43m.\u001b[39;49m\u001b[43m_call_impl\u001b[49m\u001b[43m(\u001b[49m\u001b[38;5;241;43m*\u001b[39;49m\u001b[43margs\u001b[49m\u001b[43m,\u001b[49m\u001b[43m \u001b[49m\u001b[38;5;241;43m*\u001b[39;49m\u001b[38;5;241;43m*\u001b[39;49m\u001b[43mkwargs\u001b[49m\u001b[43m)\u001b[49m\n",
      "File \u001b[0;32m~/.local/lib/python3.10/site-packages/torch/nn/modules/module.py:1750\u001b[0m, in \u001b[0;36mModule._call_impl\u001b[0;34m(self, *args, **kwargs)\u001b[0m\n\u001b[1;32m   1745\u001b[0m \u001b[38;5;66;03m# If we don't have any hooks, we want to skip the rest of the logic in\u001b[39;00m\n\u001b[1;32m   1746\u001b[0m \u001b[38;5;66;03m# this function, and just call forward.\u001b[39;00m\n\u001b[1;32m   1747\u001b[0m \u001b[38;5;28;01mif\u001b[39;00m \u001b[38;5;129;01mnot\u001b[39;00m (\u001b[38;5;28mself\u001b[39m\u001b[38;5;241m.\u001b[39m_backward_hooks \u001b[38;5;129;01mor\u001b[39;00m \u001b[38;5;28mself\u001b[39m\u001b[38;5;241m.\u001b[39m_backward_pre_hooks \u001b[38;5;129;01mor\u001b[39;00m \u001b[38;5;28mself\u001b[39m\u001b[38;5;241m.\u001b[39m_forward_hooks \u001b[38;5;129;01mor\u001b[39;00m \u001b[38;5;28mself\u001b[39m\u001b[38;5;241m.\u001b[39m_forward_pre_hooks\n\u001b[1;32m   1748\u001b[0m         \u001b[38;5;129;01mor\u001b[39;00m _global_backward_pre_hooks \u001b[38;5;129;01mor\u001b[39;00m _global_backward_hooks\n\u001b[1;32m   1749\u001b[0m         \u001b[38;5;129;01mor\u001b[39;00m _global_forward_hooks \u001b[38;5;129;01mor\u001b[39;00m _global_forward_pre_hooks):\n\u001b[0;32m-> 1750\u001b[0m     \u001b[38;5;28;01mreturn\u001b[39;00m \u001b[43mforward_call\u001b[49m\u001b[43m(\u001b[49m\u001b[38;5;241;43m*\u001b[39;49m\u001b[43margs\u001b[49m\u001b[43m,\u001b[49m\u001b[43m \u001b[49m\u001b[38;5;241;43m*\u001b[39;49m\u001b[38;5;241;43m*\u001b[39;49m\u001b[43mkwargs\u001b[49m\u001b[43m)\u001b[49m\n\u001b[1;32m   1752\u001b[0m result \u001b[38;5;241m=\u001b[39m \u001b[38;5;28;01mNone\u001b[39;00m\n\u001b[1;32m   1753\u001b[0m called_always_called_hooks \u001b[38;5;241m=\u001b[39m \u001b[38;5;28mset\u001b[39m()\n",
      "File \u001b[0;32m~/.local/lib/python3.10/site-packages/torch/nn/modules/container.py:250\u001b[0m, in \u001b[0;36mSequential.forward\u001b[0;34m(self, input)\u001b[0m\n\u001b[1;32m    248\u001b[0m \u001b[38;5;28;01mdef\u001b[39;00m \u001b[38;5;21mforward\u001b[39m(\u001b[38;5;28mself\u001b[39m, \u001b[38;5;28minput\u001b[39m):\n\u001b[1;32m    249\u001b[0m     \u001b[38;5;28;01mfor\u001b[39;00m module \u001b[38;5;129;01min\u001b[39;00m \u001b[38;5;28mself\u001b[39m:\n\u001b[0;32m--> 250\u001b[0m         \u001b[38;5;28minput\u001b[39m \u001b[38;5;241m=\u001b[39m \u001b[43mmodule\u001b[49m\u001b[43m(\u001b[49m\u001b[38;5;28;43minput\u001b[39;49m\u001b[43m)\u001b[49m\n\u001b[1;32m    251\u001b[0m     \u001b[38;5;28;01mreturn\u001b[39;00m \u001b[38;5;28minput\u001b[39m\n",
      "File \u001b[0;32m~/.local/lib/python3.10/site-packages/torch/nn/modules/module.py:1739\u001b[0m, in \u001b[0;36mModule._wrapped_call_impl\u001b[0;34m(self, *args, **kwargs)\u001b[0m\n\u001b[1;32m   1737\u001b[0m     \u001b[38;5;28;01mreturn\u001b[39;00m \u001b[38;5;28mself\u001b[39m\u001b[38;5;241m.\u001b[39m_compiled_call_impl(\u001b[38;5;241m*\u001b[39margs, \u001b[38;5;241m*\u001b[39m\u001b[38;5;241m*\u001b[39mkwargs)  \u001b[38;5;66;03m# type: ignore[misc]\u001b[39;00m\n\u001b[1;32m   1738\u001b[0m \u001b[38;5;28;01melse\u001b[39;00m:\n\u001b[0;32m-> 1739\u001b[0m     \u001b[38;5;28;01mreturn\u001b[39;00m \u001b[38;5;28;43mself\u001b[39;49m\u001b[38;5;241;43m.\u001b[39;49m\u001b[43m_call_impl\u001b[49m\u001b[43m(\u001b[49m\u001b[38;5;241;43m*\u001b[39;49m\u001b[43margs\u001b[49m\u001b[43m,\u001b[49m\u001b[43m \u001b[49m\u001b[38;5;241;43m*\u001b[39;49m\u001b[38;5;241;43m*\u001b[39;49m\u001b[43mkwargs\u001b[49m\u001b[43m)\u001b[49m\n",
      "File \u001b[0;32m~/.local/lib/python3.10/site-packages/torch/nn/modules/module.py:1750\u001b[0m, in \u001b[0;36mModule._call_impl\u001b[0;34m(self, *args, **kwargs)\u001b[0m\n\u001b[1;32m   1745\u001b[0m \u001b[38;5;66;03m# If we don't have any hooks, we want to skip the rest of the logic in\u001b[39;00m\n\u001b[1;32m   1746\u001b[0m \u001b[38;5;66;03m# this function, and just call forward.\u001b[39;00m\n\u001b[1;32m   1747\u001b[0m \u001b[38;5;28;01mif\u001b[39;00m \u001b[38;5;129;01mnot\u001b[39;00m (\u001b[38;5;28mself\u001b[39m\u001b[38;5;241m.\u001b[39m_backward_hooks \u001b[38;5;129;01mor\u001b[39;00m \u001b[38;5;28mself\u001b[39m\u001b[38;5;241m.\u001b[39m_backward_pre_hooks \u001b[38;5;129;01mor\u001b[39;00m \u001b[38;5;28mself\u001b[39m\u001b[38;5;241m.\u001b[39m_forward_hooks \u001b[38;5;129;01mor\u001b[39;00m \u001b[38;5;28mself\u001b[39m\u001b[38;5;241m.\u001b[39m_forward_pre_hooks\n\u001b[1;32m   1748\u001b[0m         \u001b[38;5;129;01mor\u001b[39;00m _global_backward_pre_hooks \u001b[38;5;129;01mor\u001b[39;00m _global_backward_hooks\n\u001b[1;32m   1749\u001b[0m         \u001b[38;5;129;01mor\u001b[39;00m _global_forward_hooks \u001b[38;5;129;01mor\u001b[39;00m _global_forward_pre_hooks):\n\u001b[0;32m-> 1750\u001b[0m     \u001b[38;5;28;01mreturn\u001b[39;00m \u001b[43mforward_call\u001b[49m\u001b[43m(\u001b[49m\u001b[38;5;241;43m*\u001b[39;49m\u001b[43margs\u001b[49m\u001b[43m,\u001b[49m\u001b[43m \u001b[49m\u001b[38;5;241;43m*\u001b[39;49m\u001b[38;5;241;43m*\u001b[39;49m\u001b[43mkwargs\u001b[49m\u001b[43m)\u001b[49m\n\u001b[1;32m   1752\u001b[0m result \u001b[38;5;241m=\u001b[39m \u001b[38;5;28;01mNone\u001b[39;00m\n\u001b[1;32m   1753\u001b[0m called_always_called_hooks \u001b[38;5;241m=\u001b[39m \u001b[38;5;28mset\u001b[39m()\n",
      "File \u001b[0;32m~/.local/lib/python3.10/site-packages/torch/nn/modules/linear.py:125\u001b[0m, in \u001b[0;36mLinear.forward\u001b[0;34m(self, input)\u001b[0m\n\u001b[1;32m    124\u001b[0m \u001b[38;5;28;01mdef\u001b[39;00m \u001b[38;5;21mforward\u001b[39m(\u001b[38;5;28mself\u001b[39m, \u001b[38;5;28minput\u001b[39m: Tensor) \u001b[38;5;241m-\u001b[39m\u001b[38;5;241m>\u001b[39m Tensor:\n\u001b[0;32m--> 125\u001b[0m     \u001b[38;5;28;01mreturn\u001b[39;00m \u001b[43mF\u001b[49m\u001b[38;5;241;43m.\u001b[39;49m\u001b[43mlinear\u001b[49m\u001b[43m(\u001b[49m\u001b[38;5;28;43minput\u001b[39;49m\u001b[43m,\u001b[49m\u001b[43m \u001b[49m\u001b[38;5;28;43mself\u001b[39;49m\u001b[38;5;241;43m.\u001b[39;49m\u001b[43mweight\u001b[49m\u001b[43m,\u001b[49m\u001b[43m \u001b[49m\u001b[38;5;28;43mself\u001b[39;49m\u001b[38;5;241;43m.\u001b[39;49m\u001b[43mbias\u001b[49m\u001b[43m)\u001b[49m\n",
      "\u001b[0;31mKeyboardInterrupt\u001b[0m: "
     ]
    }
   ],
   "source": [
    "epochs = 10\n",
    "model = create_MLP()\n",
    "optimizer = torch.optim.SGD(model.parameters(), lr=1e-3)\n",
    "loss_fn = create_loss()\n",
    "for t in range(epochs):\n",
    "    print(f\"Epoch {t+1}\\n-------------------------------\")\n",
    "    perform_one_epoch(train_dataloader, model, loss_fn, optimizer)\n",
    "    test(test_dataloader, model, loss_fn)\n",
    "print(\"Done!\")"
   ]
  },
  {
   "cell_type": "markdown",
   "metadata": {
    "id": "5UzkCGbnBe9T"
   },
   "source": [
    "### Exercise 5: Variants on Fashion Mnist\n",
    "In this exercise you will replace the MLP model by variants of the following CNN architecture.\n",
    "$$\n",
    "I\\in\\mathbb R^{28}\\otimes\\mathbb R^{28}  \n",
    "\\xrightarrow{\\mathrm{Conv3x3+ReLU+Pool}}{} \\mathbb R^{14}\\otimes\\mathbb R^{14}\\otimes\\mathbb R^{64}\n",
    "\\xrightarrow{\\mathrm{Conv3x3+ReLU+Pool}}{} \\mathbb R^{7}\\otimes\\mathbb R^{7}\\otimes\\mathbb R^{64}\n",
    "\\xrightarrow{\\mathrm{Conv3x3+ReLU+Flatten}}{} \\mathbb R^{490}\n",
    "\\xrightarrow{\\mathrm{Linear}}{} \\mathbb R^{n_c}\n",
    "$$\n",
    "\n",
    "You may consider the following variants:\n",
    "* Max vs Avg Pooling,\n",
    "* changing the padding of the convolutions,\n",
    "* changing 3x3 conv by larger or smaller convolutions\n",
    "* Playing with the number of channels of the hidden layers\n",
    "\n",
    "You will compare the different variants in terms of :\n",
    "* Classification accuracy\n",
    "* Computation throughput\n",
    "* Memory footprint both in terms of number of parameters, and activation maps"
   ]
  },
  {
   "cell_type": "code",
   "execution_count": null,
   "metadata": {},
   "outputs": [
    {
     "name": "stdout",
     "output_type": "stream",
     "text": [
      "----------------CNN_Maxpool-----------------------\n",
      "Epoch 1\n",
      "-------------------------------\n",
      "loss: 2.307702  [    0/60000]\n",
      "loss: 2.299956  [ 6400/60000]\n",
      "loss: 2.295829  [12800/60000]\n",
      "loss: 2.291453  [19200/60000]\n",
      "loss: 2.285155  [25600/60000]\n",
      "loss: 2.281657  [32000/60000]\n",
      "loss: 2.272167  [38400/60000]\n",
      "loss: 2.265881  [44800/60000]\n",
      "loss: 2.267250  [51200/60000]\n",
      "loss: 2.245484  [57600/60000]\n",
      "Test Error: \n",
      " Accuracy: 38.1%, Avg loss: 2.250670 \n",
      "\n",
      "Epoch 2\n",
      "-------------------------------\n",
      "loss: 2.257469  [    0/60000]\n",
      "loss: 2.249550  [ 6400/60000]\n",
      "loss: 2.224500  [12800/60000]\n",
      "loss: 2.216640  [19200/60000]\n",
      "loss: 2.216339  [25600/60000]\n",
      "loss: 2.152581  [32000/60000]\n",
      "loss: 2.143731  [38400/60000]\n",
      "loss: 2.089293  [44800/60000]\n",
      "loss: 2.056726  [51200/60000]\n",
      "loss: 1.958837  [57600/60000]\n",
      "Test Error: \n",
      " Accuracy: 45.7%, Avg loss: 1.948262 \n",
      "\n",
      "Epoch 3\n",
      "-------------------------------\n",
      "loss: 1.981288  [    0/60000]\n",
      "loss: 1.898387  [ 6400/60000]\n",
      "loss: 1.723081  [12800/60000]\n",
      "loss: 1.665216  [19200/60000]\n",
      "loss: 1.517847  [25600/60000]\n",
      "loss: 1.414174  [32000/60000]\n",
      "loss: 1.320153  [38400/60000]\n",
      "loss: 1.224777  [44800/60000]\n",
      "loss: 1.225712  [51200/60000]\n",
      "loss: 1.164800  [57600/60000]\n",
      "Test Error: \n",
      " Accuracy: 61.0%, Avg loss: 1.141285 \n",
      "\n",
      "Epoch 4\n",
      "-------------------------------\n",
      "loss: 1.197119  [    0/60000]\n",
      "loss: 1.140893  [ 6400/60000]\n",
      "loss: 0.934413  [12800/60000]\n",
      "loss: 1.108976  [19200/60000]\n",
      "loss: 1.077977  [25600/60000]\n",
      "loss: 1.043900  [32000/60000]\n",
      "loss: 0.985185  [38400/60000]\n",
      "loss: 0.896841  [44800/60000]\n",
      "loss: 0.957374  [51200/60000]\n",
      "loss: 1.017721  [57600/60000]\n",
      "Test Error: \n",
      " Accuracy: 66.5%, Avg loss: 0.950903 \n",
      "\n",
      "Epoch 5\n",
      "-------------------------------\n",
      "loss: 0.945343  [    0/60000]\n",
      "loss: 0.976935  [ 6400/60000]\n",
      "loss: 0.732403  [12800/60000]\n",
      "loss: 0.995651  [19200/60000]\n",
      "loss: 1.001766  [25600/60000]\n",
      "loss: 0.945076  [32000/60000]\n",
      "loss: 0.885765  [38400/60000]\n",
      "loss: 0.799415  [44800/60000]\n",
      "loss: 0.863433  [51200/60000]\n",
      "loss: 0.968711  [57600/60000]\n",
      "Test Error: \n",
      " Accuracy: 68.4%, Avg loss: 0.878431 \n",
      "\n",
      "Epoch 6\n",
      "-------------------------------\n",
      "loss: 0.838961  [    0/60000]\n",
      "loss: 0.906933  [ 6400/60000]\n",
      "loss: 0.651243  [12800/60000]\n",
      "loss: 0.934518  [19200/60000]\n",
      "loss: 0.951621  [25600/60000]\n",
      "loss: 0.896080  [32000/60000]\n",
      "loss: 0.836312  [38400/60000]\n",
      "loss: 0.755466  [44800/60000]\n",
      "loss: 0.814019  [51200/60000]\n",
      "loss: 0.933479  [57600/60000]\n",
      "Test Error: \n",
      " Accuracy: 69.3%, Avg loss: 0.837175 \n",
      "\n",
      "Epoch 7\n",
      "-------------------------------\n",
      "loss: 0.780892  [    0/60000]\n",
      "loss: 0.857080  [ 6400/60000]\n",
      "loss: 0.605186  [12800/60000]\n",
      "loss: 0.891578  [19200/60000]\n",
      "loss: 0.914865  [25600/60000]\n",
      "loss: 0.867754  [32000/60000]\n",
      "loss: 0.804762  [38400/60000]\n",
      "loss: 0.726755  [44800/60000]\n",
      "loss: 0.781900  [51200/60000]\n",
      "loss: 0.904906  [57600/60000]\n",
      "Test Error: \n",
      " Accuracy: 70.0%, Avg loss: 0.809196 \n",
      "\n",
      "Epoch 8\n",
      "-------------------------------\n",
      "loss: 0.740888  [    0/60000]\n",
      "loss: 0.818789  [ 6400/60000]\n",
      "loss: 0.571711  [12800/60000]\n",
      "loss: 0.859656  [19200/60000]\n",
      "loss: 0.887240  [25600/60000]\n",
      "loss: 0.849936  [32000/60000]\n",
      "loss: 0.781008  [38400/60000]\n",
      "loss: 0.703142  [44800/60000]\n",
      "loss: 0.758777  [51200/60000]\n",
      "loss: 0.881035  [57600/60000]\n",
      "Test Error: \n",
      " Accuracy: 70.2%, Avg loss: 0.787880 \n",
      "\n",
      "Epoch 9\n",
      "-------------------------------\n",
      "loss: 0.708674  [    0/60000]\n",
      "loss: 0.789393  [ 6400/60000]\n",
      "loss: 0.544843  [12800/60000]\n",
      "loss: 0.835243  [19200/60000]\n",
      "loss: 0.865249  [25600/60000]\n",
      "loss: 0.837834  [32000/60000]\n",
      "loss: 0.761437  [38400/60000]\n",
      "loss: 0.681926  [44800/60000]\n",
      "loss: 0.741604  [51200/60000]\n",
      "loss: 0.860157  [57600/60000]\n",
      "Test Error: \n",
      " Accuracy: 70.8%, Avg loss: 0.770220 \n",
      "\n",
      "Epoch 10\n",
      "-------------------------------\n",
      "loss: 0.680932  [    0/60000]\n",
      "loss: 0.765727  [ 6400/60000]\n",
      "loss: 0.522236  [12800/60000]\n",
      "loss: 0.815074  [19200/60000]\n",
      "loss: 0.846599  [25600/60000]\n",
      "loss: 0.827988  [32000/60000]\n",
      "loss: 0.745861  [38400/60000]\n",
      "loss: 0.662973  [44800/60000]\n",
      "loss: 0.726040  [51200/60000]\n",
      "loss: 0.841189  [57600/60000]\n",
      "Test Error: \n",
      " Accuracy: 71.2%, Avg loss: 0.755174 \n",
      "\n",
      "Done!\n"
     ]
    }
   ],
   "source": [
    "def create_CNN_Maxpool():\n",
    "    model = nn.Sequential(\n",
    "        nn.Conv2d(1, 64, 3), nn.ReLU(), nn.MaxPool2d(2),\n",
    "        nn.Conv2d(64, 64, 3), nn.ReLU(), nn.MaxPool2d(2),\n",
    "        nn.Conv2d(64, 64, 3), nn.ReLU(),nn.Flatten(),\n",
    "        nn.Linear(3*3*64, 10)\n",
    "    ).to(device)\n",
    "    return model\n",
    "\n",
    "def create_CNN_Avgpool():\n",
    "    model = nn.Sequential(\n",
    "        nn.Conv2d(1, 64, 3), nn.ReLU(), nn.AvgPool2d(2),\n",
    "        nn.Conv2d(64, 64, 3), nn.ReLU(), nn.AvgPool2d(2),\n",
    "        nn.Conv2d(64, 64, 3), nn.ReLU(),nn.Flatten(),\n",
    "        nn.Linear(3*3*64, 10)\n",
    "    ).to(device)\n",
    "    return model\n",
    "\n",
    "def create_CNN_Padding():\n",
    "    model = nn.Sequential(\n",
    "        nn.Conv2d(1, 64, 3,padding=2), nn.ReLU(), nn.MaxPool2d(2),\n",
    "        nn.Conv2d(64, 64, 3,padding=2), nn.ReLU(), nn.MaxPool2d(2),\n",
    "        nn.Conv2d(64, 64, 3,padding=2), nn.ReLU(),nn.Flatten(),\n",
    "        nn.Linear(3*3*64, 10)\n",
    "    ).to(device)\n",
    "    return model\n",
    "\n",
    "\n",
    "def create_CNN_Largerconvolution():\n",
    "    model = nn.Sequential(\n",
    "        nn.Conv2d(1, 64, 5), nn.ReLU(), nn.MaxPool2d(2),\n",
    "        nn.Conv2d(64, 64, 5), nn.ReLU(), nn.MaxPool2d(2),\n",
    "        nn.Conv2d(64, 64, 5), nn.ReLU(),nn.Flatten(),\n",
    "        nn.Linear(3*3*64, 10)\n",
    "    ).to(device)\n",
    "    return model\n",
    "\n",
    "def create_CNN_Smallerconvolution():\n",
    "    model = nn.Sequential(\n",
    "        nn.Conv2d(1, 64, 1), nn.ReLU(), nn.MaxPool2d(2),\n",
    "        nn.Conv2d(64, 64, 1), nn.ReLU(), nn.MaxPool2d(2),\n",
    "        nn.Conv2d(64, 64, 1), nn.ReLU(),nn.Flatten(),\n",
    "        nn.Linear(3*3*64, 10)\n",
    "    ).to(device)\n",
    "    return model\n",
    "\n",
    "def create_CNN_MoreChannels():\n",
    "    model = nn.Sequential(\n",
    "        nn.Conv2d(1, 128, 3), nn.ReLU(), nn.MaxPool2d(2),\n",
    "        nn.Conv2d(128, 128, 3), nn.ReLU(), nn.MaxPool2d(2),\n",
    "        nn.Conv2d(128, 128, 3), nn.ReLU(),nn.Flatten(),\n",
    "        nn.Linear(3*3*128, 10)\n",
    "    ).to(device)\n",
    "    return model\n",
    "\n",
    "def create_CNN_LessChannels():\n",
    "    model = nn.Sequential(\n",
    "        nn.Conv2d(1, 32, 3), nn.ReLU(), nn.MaxPool2d(2),\n",
    "        nn.Conv2d(32, 32, 3), nn.ReLU(), nn.MaxPool2d(2),\n",
    "        nn.Conv2d(32, 32, 3), nn.ReLU(),nn.Flatten(),\n",
    "        nn.Linear(3*3*32, 10)\n",
    "    ).to(device)\n",
    "    return model\n",
    "    \n",
    "\n",
    "# Entraînement de tous les modèles\n",
    "models_config = [\n",
    "    (\"CNN_Maxpool\", create_CNN_Maxpool),\n",
    "    (\"CNN_Avgpool\", create_CNN_Avgpool), \n",
    "    (\"CNN_Padding\", create_CNN_Padding),\n",
    "    (\"CNN_Largerconvolution\", create_CNN_Largerconvolution),\n",
    "    (\"CNN_Smallerconvolution\", create_CNN_Smallerconvolution),\n",
    "    (\"CNN_MoreChannels\", create_CNN_MoreChannels),\n",
    "    (\"CNN_LessChannels\", create_CNN_LessChannels)\n",
    "]\n",
    "\n",
    "epochs = 3\n",
    "results = {}\n",
    "\n",
    "for model_name, create_model_fn in models_config:\n",
    "    print(f\"\\n{'='*50}\")\n",
    "    print(f\"Training {model_name}\")\n",
    "    print(f\"{'='*50}\")\n",
    "    \n",
    "    model = create_model_fn()\n",
    "    optimizer = torch.optim.SGD(model.parameters(), lr=1e-3)\n",
    "    loss_fn = create_loss()\n",
    "    \n",
    "    for t in range(epochs):\n",
    "        print(f\"Epoch {t+1}/{epochs}\")\n",
    "        print(\"-------------------------------\")\n",
    "        perform_one_epoch(train_dataloader, model, loss_fn, optimizer)\n",
    "        test(test_dataloader, model, loss_fn)\n",
    "    \n",
    "\n",
    "    print(f\"Done training {model_name}!\")\n"
   ]
  }
 ],
 "metadata": {
  "accelerator": "GPU",
  "colab": {
   "collapsed_sections": [
    "NiRuJPJEpTbT",
    "s3IqanhvnTT1",
    "gQF2EGB482Rh",
    "7JTLBcHKnTT4",
    "IwThOdeCnTT4"
   ],
   "name": "DL_lab_3AISIA.ipynb",
   "provenance": []
  },
  "kernelspec": {
   "display_name": "Python 3",
   "language": "python",
   "name": "python3"
  },
  "language_info": {
   "codemirror_mode": {
    "name": "ipython",
    "version": 3
   },
   "file_extension": ".py",
   "mimetype": "text/x-python",
   "name": "python",
   "nbconvert_exporter": "python",
   "pygments_lexer": "ipython3",
   "version": "3.10.12"
  }
 },
 "nbformat": 4,
 "nbformat_minor": 1
}
