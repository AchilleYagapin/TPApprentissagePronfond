{
 "cells": [
  {
   "cell_type": "code",
   "execution_count": 37,
   "metadata": {
    "id": "rJ_YHQEUvG7l"
   },
   "outputs": [],
   "source": [
    "%matplotlib inline"
   ]
  },
  {
   "cell_type": "markdown",
   "metadata": {
    "id": "wIV2JaW5sQ2w"
   },
   "source": [
    "----------------------------\n",
    "#Session 0 \n",
    "----------------------------"
   ]
  },
  {
   "cell_type": "markdown",
   "metadata": {
    "id": "7aiByk-LwUs_"
   },
   "source": [
    "-------------------------\n",
    "# Tensors\n",
    "\n",
    "Tensors are a specialized data structure that are very similar to arrays and matrices.\n",
    "In PyTorch, we use tensors to encode the inputs and outputs of a model, as well as the model’s parameters.\n",
    "\n",
    "Tensors are similar to `NumPy’s <https://numpy.org/>`_ ndarrays, except that tensors can run on GPUs or other hardware accelerators. In fact, tensors and\n",
    "NumPy arrays can often share the same underlying memory, eliminating the need to copy data (see `bridge-to-np-label`). Tensors\n",
    "are also optimized for automatic differentiation (we'll see more about that later in the `Autograd <autogradqs_tutorial.html>`__\n",
    "section). If you’re familiar with ndarrays, you’ll be right at home with the Tensor API. If not, follow along!\n"
   ]
  },
  {
   "cell_type": "code",
   "execution_count": 38,
   "metadata": {
    "id": "T1QV_Sv5wXYB"
   },
   "outputs": [],
   "source": [
    "import torch\n",
    "import numpy as np"
   ]
  },
  {
   "cell_type": "markdown",
   "metadata": {
    "id": "s_r70CkXxnxG"
   },
   "source": [
    "## Initializing a Tensor\n",
    "\n",
    "Tensors can be initialized in various ways. Take a look at the following examples:\n",
    "\n",
    "**Directly from data**\n",
    "\n",
    "Tensors can be created directly from data. The data type is automatically inferred.\n",
    "\n"
   ]
  },
  {
   "cell_type": "code",
   "execution_count": 39,
   "metadata": {
    "id": "JeStpIcov2q6"
   },
   "outputs": [],
   "source": [
    "data = [[1, 2],[3, 4]]\n",
    "x_data = torch.tensor(data)"
   ]
  },
  {
   "cell_type": "markdown",
   "metadata": {
    "id": "17DYK-Hxv2q6"
   },
   "source": [
    "**From a NumPy array**\n",
    "\n",
    "Tensors can be created from NumPy arrays (and vice versa - see `bridge-to-np-label`).\n",
    "\n"
   ]
  },
  {
   "cell_type": "code",
   "execution_count": 40,
   "metadata": {
    "id": "YkA4_Rtyv2q6"
   },
   "outputs": [],
   "source": [
    "np_array = np.array(data)\n",
    "x_np = torch.from_numpy(np_array)"
   ]
  },
  {
   "cell_type": "markdown",
   "metadata": {
    "id": "RIsm-igzv2q7"
   },
   "source": [
    "**From another tensor:**\n",
    "\n",
    "The new tensor retains the properties (shape, datatype) of the argument tensor, unless explicitly overridden.\n",
    "\n"
   ]
  },
  {
   "cell_type": "code",
   "execution_count": 41,
   "metadata": {
    "colab": {
     "base_uri": "https://localhost:8080/"
    },
    "id": "Rg1YveDFv2q8",
    "outputId": "a7a67b7d-e555-4c22-90f1-5a1f3884bad7"
   },
   "outputs": [
    {
     "name": "stdout",
     "output_type": "stream",
     "text": [
      "Ones Tensor: \n",
      " tensor([[1, 1],\n",
      "        [1, 1]]) \n",
      "\n",
      "Random Tensor: \n",
      " tensor([[0.1823, 0.6596],\n",
      "        [0.4568, 0.9685]]) \n",
      "\n"
     ]
    }
   ],
   "source": [
    "x_ones = torch.ones_like(x_data) # retains the properties of x_data\n",
    "print(f\"Ones Tensor: \\n {x_ones} \\n\")\n",
    "\n",
    "x_rand = torch.rand_like(x_data, dtype=torch.float) # overrides the datatype of x_data\n",
    "print(f\"Random Tensor: \\n {x_rand} \\n\")"
   ]
  },
  {
   "cell_type": "markdown",
   "metadata": {
    "id": "LJOQuIKLv2q8"
   },
   "source": [
    "**With random or constant values:**\n",
    "\n",
    "``shape`` is a tuple of tensor dimensions. In the functions below, it determines the dimensionality of the output tensor.\n",
    "\n"
   ]
  },
  {
   "cell_type": "code",
   "execution_count": 42,
   "metadata": {
    "colab": {
     "base_uri": "https://localhost:8080/"
    },
    "id": "VBO9cFBov2q9",
    "outputId": "a3d703ba-47da-4767-fd1e-393b9b445e09"
   },
   "outputs": [
    {
     "name": "stdout",
     "output_type": "stream",
     "text": [
      "Random Tensor: \n",
      " tensor([[0.8461, 0.7135, 0.8501],\n",
      "        [0.3846, 0.4067, 0.9118]]) \n",
      "\n",
      "Ones Tensor: \n",
      " tensor([[1., 1., 1.],\n",
      "        [1., 1., 1.]]) \n",
      "\n",
      "Zeros Tensor: \n",
      " tensor([[0., 0., 0.],\n",
      "        [0., 0., 0.]])\n",
      "Other Random Tensor: \n",
      " tensor([[0.3835, 0.8667, 0.2404],\n",
      "        [0.9099, 0.6373, 0.0080]]) \n",
      "\n",
      "Other Ones Tensor: \n",
      " tensor([[1., 1., 1.],\n",
      "        [1., 1., 1.]]) \n",
      "\n",
      "Other Zeros Tensor: \n",
      " tensor([[0., 0., 0.],\n",
      "        [0., 0., 0.]])\n"
     ]
    }
   ],
   "source": [
    "shape = (2,3,)\n",
    "rand_tensor = torch.rand(shape)\n",
    "ones_tensor = torch.ones(shape)\n",
    "zeros_tensor = torch.zeros(shape)\n",
    "\n",
    "print(f\"Random Tensor: \\n {rand_tensor} \\n\")\n",
    "print(f\"Ones Tensor: \\n {ones_tensor} \\n\")\n",
    "print(f\"Zeros Tensor: \\n {zeros_tensor}\")\n",
    "\n",
    "# You can also try zeros_like, rand_like and ones_like\n",
    "another_rand_tensor = torch.rand_like(zeros_tensor)\n",
    "another_ones_tensor = torch.ones_like(zeros_tensor)\n",
    "another_zeros_tensor = torch.zeros_like(zeros_tensor)\n",
    "\n",
    "print(f\"Other Random Tensor: \\n {another_rand_tensor} \\n\")\n",
    "print(f\"Other Ones Tensor: \\n {another_ones_tensor} \\n\")\n",
    "print(f\"Other Zeros Tensor: \\n {another_zeros_tensor}\")"
   ]
  },
  {
   "cell_type": "markdown",
   "metadata": {
    "id": "_TAVDJDkv2q-"
   },
   "source": [
    "--------------\n",
    "\n",
    "\n"
   ]
  },
  {
   "cell_type": "markdown",
   "metadata": {
    "id": "OPnm4wTvv2q9"
   },
   "source": [
    "## Attributes of a Tensor\n",
    "\n",
    "Tensor attributes describe their shape, datatype, and the device on which they are stored.\n",
    "\n"
   ]
  },
  {
   "cell_type": "code",
   "execution_count": 43,
   "metadata": {
    "colab": {
     "base_uri": "https://localhost:8080/"
    },
    "id": "g_8IbYUuv2q9",
    "outputId": "ed0f5717-8f6a-41b6-e4ca-cf35c73a5d24"
   },
   "outputs": [
    {
     "name": "stdout",
     "output_type": "stream",
     "text": [
      "Shape of tensor: torch.Size([3, 4])\n",
      "Datatype of tensor: torch.float32\n",
      "Device tensor is stored on: cpu\n"
     ]
    }
   ],
   "source": [
    "tensor = torch.rand(3,4)\n",
    "\n",
    "print(f\"Shape of tensor: {tensor.shape}\")\n",
    "print(f\"Datatype of tensor: {tensor.dtype}\")\n",
    "print(f\"Device tensor is stored on: {tensor.device}\")"
   ]
  },
  {
   "cell_type": "markdown",
   "metadata": {
    "id": "KAcM2dpNyQhj"
   },
   "source": [
    "--------------\n",
    "\n",
    "\n"
   ]
  },
  {
   "cell_type": "markdown",
   "metadata": {
    "id": "KqS2tdb7v2q-"
   },
   "source": [
    "## Operations on Tensors\n",
    "\n",
    "Over 100 tensor operations, including arithmetic, linear algebra, matrix manipulation (transposing,\n",
    "indexing, slicing), sampling and more are\n",
    "comprehensively described `here <https://pytorch.org/docs/stable/torch.html>`__.\n",
    "\n",
    "Each of these operations can be run on the GPU (at typically higher speeds than on a\n",
    "CPU). If you’re using Colab, allocate a GPU by going to Runtime > Change runtime type > GPU.\n",
    "\n",
    "By default, tensors are created on the CPU. We need to explicitly move tensors to the GPU using\n",
    "``.to`` method (after checking for GPU availability). Keep in mind that copying large tensors\n",
    "across devices can be expensive in terms of time and memory!\n",
    "\n"
   ]
  },
  {
   "cell_type": "code",
   "execution_count": 44,
   "metadata": {
    "colab": {
     "base_uri": "https://localhost:8080/"
    },
    "id": "wG49zN9dv2q_",
    "outputId": "90ff5df1-3725-4d6f-c76e-a822ad5b7024"
   },
   "outputs": [
    {
     "name": "stdout",
     "output_type": "stream",
     "text": [
      "Device tensor is stored on: cuda:0\n"
     ]
    }
   ],
   "source": [
    "# We move our tensor to the GPU if available\n",
    "if torch.cuda.is_available():\n",
    "    tensor = tensor.to('cuda')\n",
    "    print(f\"Device tensor is stored on: {tensor.device}\")\n",
    "    device = torch.device('cuda')\n",
    "else:\n",
    "    device = torch.device('cpu')\n",
    "\n",
    "tensor = tensor.to(device) #same as tensor.to('cuda') or tensor.to('cpu')"
   ]
  },
  {
   "cell_type": "markdown",
   "metadata": {
    "id": "W_IxAa5pv2q_"
   },
   "source": [
    "Try out some of the operations from the list.\n",
    "If you're familiar with the NumPy API, you'll find the Tensor API a breeze to use.\n",
    "\n",
    "\n"
   ]
  },
  {
   "cell_type": "markdown",
   "metadata": {
    "id": "0j0dXtA0v2q_"
   },
   "source": [
    "**Standard numpy-like indexing and slicing:**\n",
    "\n"
   ]
  },
  {
   "cell_type": "code",
   "execution_count": 45,
   "metadata": {
    "colab": {
     "base_uri": "https://localhost:8080/"
    },
    "id": "1r5-7yAiv2q_",
    "outputId": "cc5f69b5-92c4-4017-8927-01f3123362e6"
   },
   "outputs": [
    {
     "name": "stdout",
     "output_type": "stream",
     "text": [
      "First row:  tensor([1., 1., 1., 1.])\n",
      "First column:  tensor([1., 1., 1.])\n",
      "Last column: tensor([1., 1., 1.])\n",
      "tensor([[1., 0., 1., 1.],\n",
      "        [1., 0., 1., 1.],\n",
      "        [1., 0., 1., 1.]])\n"
     ]
    }
   ],
   "source": [
    "tensor = torch.ones(3, 4)\n",
    "print('First row: ', tensor[0])\n",
    "print('First column: ', tensor[:, 0])\n",
    "print('Last column:', tensor[..., -1])\n",
    "tensor[:,1] = 0\n",
    "print(tensor)"
   ]
  },
  {
   "cell_type": "markdown",
   "metadata": {
    "id": "8FaxRx88v2rA"
   },
   "source": [
    "**Joining tensors** You can use ``torch.cat`` to concatenate a sequence of tensors along a given dimension.\n",
    "See also `torch.stack <https://pytorch.org/docs/stable/generated/torch.stack.html>`__,\n",
    "another tensor joining op that is subtly different from ``torch.cat``.\n",
    "\n"
   ]
  },
  {
   "cell_type": "code",
   "execution_count": 46,
   "metadata": {
    "colab": {
     "base_uri": "https://localhost:8080/"
    },
    "id": "qMO-psp4v2rA",
    "outputId": "2bc0dcac-ebdd-4073-db06-527e9947fa6e"
   },
   "outputs": [
    {
     "name": "stdout",
     "output_type": "stream",
     "text": [
      "tensor([[1., 0., 1., 1., 1., 0., 1., 1., 1., 0., 1., 1.],\n",
      "        [1., 0., 1., 1., 1., 0., 1., 1., 1., 0., 1., 1.],\n",
      "        [1., 0., 1., 1., 1., 0., 1., 1., 1., 0., 1., 1.]])\n"
     ]
    }
   ],
   "source": [
    "t1 = torch.cat([tensor, tensor, tensor], dim=1)\n",
    "print(t1)"
   ]
  },
  {
   "cell_type": "markdown",
   "metadata": {
    "id": "C792wff2v2rA"
   },
   "source": [
    "**Arithmetic operations**\n",
    "\n"
   ]
  },
  {
   "cell_type": "code",
   "execution_count": 47,
   "metadata": {
    "colab": {
     "base_uri": "https://localhost:8080/"
    },
    "id": "SfuYOSYSv2rA",
    "outputId": "dcd63aeb-a7c8-4266-972d-f09baf8404cb"
   },
   "outputs": [
    {
     "name": "stdout",
     "output_type": "stream",
     "text": [
      "Equivalent computation: True\n",
      "Equivalent computation: True\n"
     ]
    }
   ],
   "source": [
    "# This computes the matrix multiplication between two tensors. y1, y2, y3 will have the same value\n",
    "y1 = tensor @ tensor.T\n",
    "y2 = tensor.matmul(tensor.T)\n",
    "\n",
    "y3 = torch.empty_like(y1)\n",
    "torch.matmul(tensor, tensor.T, out=y3)\n",
    "\n",
    "print(f'Equivalent computation: {torch.all(y1==y2) and torch.all(y2==y3)}')\n",
    "\n",
    "\n",
    "# This computes the element-wise product. z1, z2, z3 will have the same value\n",
    "z1 = tensor * tensor\n",
    "z2 = tensor.mul(tensor)\n",
    "\n",
    "z3 = torch.empty_like(tensor)\n",
    "torch.mul(tensor, tensor, out=z3)\n",
    "print(f'Equivalent computation: {torch.all(z1==z2) and torch.all(z2==z3)}')"
   ]
  },
  {
   "cell_type": "markdown",
   "metadata": {
    "id": "A3QC6IWkTzGh"
   },
   "source": [
    "**in-place vs out-of-place operations**\n",
    "\n"
   ]
  },
  {
   "cell_type": "code",
   "execution_count": 48,
   "metadata": {
    "colab": {
     "base_uri": "https://localhost:8080/"
    },
    "id": "RySzoCiWT-hJ",
    "outputId": "5ca46edb-ea3f-4424-cd16-7880d44cf492"
   },
   "outputs": [
    {
     "name": "stdout",
     "output_type": "stream",
     "text": [
      "x at the begining:\n",
      " tensor([[0., 0., 0.],\n",
      "        [0., 0., 0.]])\n",
      "x after out-of-place op:\n",
      " tensor([[0., 0., 0.],\n",
      "        [0., 0., 0.]])\n",
      "x after in-place op:\n",
      " tensor([[1., 1., 1.],\n",
      "        [1., 1., 1.]])\n",
      "x after another in-place op:\n",
      " tensor([[2., 2., 2.],\n",
      "        [2., 2., 2.]])\n"
     ]
    }
   ],
   "source": [
    "# methods ending with a _ are in place\n",
    "x = torch.zeros(2,3)\n",
    "print(f'x at the begining:\\n {x}')\n",
    "x.add(1)\n",
    "print(f'x after out-of-place op:\\n {x}')\n",
    "x.add_(1)\n",
    "print(f'x after in-place op:\\n {x}')\n",
    "\n",
    "# when such in-place variant does not exist, one may rely on the `out` parameter\n",
    "torch.add(x,1, out=x)\n",
    "print(f'x after another in-place op:\\n {x}')"
   ]
  },
  {
   "cell_type": "markdown",
   "metadata": {
    "id": "uNzkfqR6v2rA"
   },
   "source": [
    "**Single-element tensors** If you have a one-element tensor, for example by aggregating all\n",
    "values of a tensor into one value, you can convert it to a Python\n",
    "numerical value using ``item()``:\n",
    "\n"
   ]
  },
  {
   "cell_type": "code",
   "execution_count": 49,
   "metadata": {
    "colab": {
     "base_uri": "https://localhost:8080/"
    },
    "id": "Vrptrysbv2rA",
    "outputId": "a87d6dcd-421e-422b-d579-813a9e035a96"
   },
   "outputs": [
    {
     "name": "stdout",
     "output_type": "stream",
     "text": [
      "9.0 <class 'float'>\n"
     ]
    }
   ],
   "source": [
    "agg = tensor.sum()\n",
    "agg_item = agg.item()\n",
    "print(agg_item, type(agg_item))"
   ]
  },
  {
   "cell_type": "markdown",
   "metadata": {
    "id": "W4GTnYGfzMXf"
   },
   "source": [
    "-------------------------\n",
    "# Exercises on Tensor manipulation"
   ]
  },
  {
   "cell_type": "markdown",
   "metadata": {
    "id": "rHW5jmnt3pk-"
   },
   "source": [
    "## Exercise 1: \n",
    "Compute $\\Vert t_1-t_2\\Vert^2$ and return the result as a `float`. \n",
    "You should use `torch.square` and `torch.sum` in your solution.\n",
    "\n",
    "<u>Hint:</u> Beware, that $t_1$ and $t_2$ have different shapes, so you should resize them to a common shape first."
   ]
  },
  {
   "cell_type": "code",
   "execution_count": 50,
   "metadata": {
    "colab": {
     "base_uri": "https://localhost:8080/"
    },
    "id": "DdYR2M9TzS81",
    "outputId": "7e25a22c-7393-44b9-8f7c-45e61f559a14"
   },
   "outputs": [
    {
     "name": "stdout",
     "output_type": "stream",
     "text": [
      "Exercise 1: OK\n"
     ]
    }
   ],
   "source": [
    "debug = False\n",
    "def exercise1(t1,t2):\n",
    "  t1.resize_(t2.shape)\n",
    "  t3 = torch.sum(torch.square(t1 -t2))\n",
    "  return t3.item()\n",
    "\n",
    "def test_exercise1():\n",
    "  t1 = torch.ones((3,4))\n",
    "  t2 = torch.arange(0,12)\n",
    "  result = exercise1(t1,t2)\n",
    "  expected = 386\n",
    "  if isinstance(result, float) and result == expected:\n",
    "    print('Exercise 1: OK')\n",
    "  else:\n",
    "    print('Exercise 1: NOK')\n",
    "    if not isinstance(result, float):\n",
    "      print('Hint: don\\'t forget to return a float and not a tensor (with item())')\n",
    "    if debug:\n",
    "      print(f' result : {result}')\n",
    "      print(f' expected : {expected}')\n",
    "\n",
    "test_exercise1()"
   ]
  },
  {
   "cell_type": "markdown",
   "metadata": {
    "id": "R6y0Yl7j5Iw8"
   },
   "source": [
    "## Exercice 2: Monte-carlo estimation of $\\pi/4$\n",
    "To estimate $\\pi/4$, we can generate $n$ random samples in the unit square, and count the ratio that have a norm less than 1. To do so in pytorch, generate a random tensor of shape $n\\times 2$ and compute the norm of each column, and guess the rest of the solution.\n",
    "![Illustration](https://upload.wikimedia.org/wikipedia/commons/thumb/8/84/Pi_30K.gif/440px-Pi_30K.gif)\n"
   ]
  },
  {
   "cell_type": "code",
   "execution_count": 51,
   "metadata": {
    "colab": {
     "base_uri": "https://localhost:8080/"
    },
    "id": "3VfZFreR1KOB",
    "outputId": "6eaf35ad-1293-4ed6-f8f0-695379b69dd4"
   },
   "outputs": [
    {
     "name": "stdout",
     "output_type": "stream",
     "text": [
      "tensor([0.7854], dtype=torch.float64)\n",
      "Exercise 2: OK\n"
     ]
    }
   ],
   "source": [
    "debug = False\n",
    "\n",
    "def exercise2(n_samples):\n",
    "  resultat = torch.rand(n_samples,2).double()\n",
    "  resultat = torch.norm(resultat,dim=1) # dim 1 pour les lignes\n",
    "  resultat = (resultat <=1).sum().double()\n",
    "  return resultat/n_samples\n",
    "\n",
    "def test_exercise2():\n",
    "  result = exercise2(int(1e7))\n",
    "  expected = torch.tensor([np.pi/4]).double()\n",
    "  print(expected)\n",
    "  if  torch.isclose(result, expected, atol=1e-3):\n",
    "    print('Exercise 2: OK')\n",
    "  else:\n",
    "    print('Exercise 2: NOK')\n",
    "    if debug:\n",
    "      print(f' result : {result.item()}')\n",
    "      print(f' expected : {expected.item()}')\n",
    "\n",
    "test_exercise2()"
   ]
  },
  {
   "cell_type": "markdown",
   "metadata": {
    "id": "XvUvKwWeVXIJ"
   },
   "source": [
    "## Exercise 3: In-place computation of the Fibonacci number\n",
    "Denoting $A=\\begin{pmatrix} 1& 1\\\\ 1 &0\\end{pmatrix}$, one may show that $A^n=\\begin{pmatrix} F_{n+1}& F_n \\\\ F_n & F_{n-1}\\end{pmatrix}$. Using the previous fact as well as $\\frac{F_{n+1}}{F_n}\\to \\frac{1+\\sqrt{5}}{2}$, you shall compute $\\phi:=\\frac{1+\\sqrt{5}}{2}$ based only on inline operations. In practice, you should initialize $A$ to the correct matrix, and compute iteratively $A^{(2^n)}$ in-place (using the `out` parameter of the `torch.mm` routine)."
   ]
  },
  {
   "cell_type": "code",
   "execution_count": 52,
   "metadata": {
    "colab": {
     "base_uri": "https://localhost:8080/"
    },
    "id": "tYIYynwUV7uv",
    "outputId": "f4664571-cff8-4a85-82ca-9cb789c89f4d"
   },
   "outputs": [
    {
     "name": "stdout",
     "output_type": "stream",
     "text": [
      "Exercise 3: OK\n"
     ]
    }
   ],
   "source": [
    "debug = False\n",
    "import math\n",
    "\n",
    "def exercise3(A, n):\n",
    "  '''Here you should compute A^{2n} for the Fibonnaci matrix. The computation must be in-place'''\n",
    "  A.copy_(torch.tensor([[1,1],[1,0]]))\n",
    "  for i in range(n):\n",
    "    torch.mm(A,A,out=A) \n",
    "\n",
    "\n",
    "def test_exercise3():\n",
    "  A = torch.empty((2,2))\n",
    "  exercise3(A,3)\n",
    "  result = A[0,0]/A[1,0]\n",
    "  expected = (1+torch.sqrt(torch.tensor(5.)))/2\n",
    "  if  torch.isclose(result, expected, 1e-3):\n",
    "    print('Exercise 3: OK')\n",
    "  else:\n",
    "    print('Exercise 3: NOK')\n",
    "    if debug:\n",
    "      print(f' result : {result}')\n",
    "      print(f' expected : {expected}')\n",
    "\n",
    "test_exercise3()"
   ]
  },
  {
   "cell_type": "markdown",
   "metadata": {},
   "source": [
    "## Exercise 4: Hamming correcting code\n",
    "Here you will implement the Hamming correcting code scheme. To do so you will need to implement the following functions:\n",
    "* `nbits(x)`  which computes the maximum number of bits necessary to encode the entries of the int tensor `x`\n",
    "* `int2bits(x)`  which converts an int tensor into its binary version, the output contain one extra dimension and is composed of boolean\n",
    "* `bits2int(bits)` which is the reverse of the previous routine\n",
    "* `nparity_bits(n)` compute the number of parity bits given the number of data bits (using exhaustive search and the constraint $2^r >= m + r + 1$)\n",
    "* `init_parity_bits(bits)` insert parity bits (initialized with 0) at the right positions (at all power of two locations in 1-indexing)\n",
    "* `hamming_encode(bits)` which actually call the previous function and then actually compute the true values of the parity bits. This values are the parity of all subsequent bits which 1-index has binary decomposition with a 1 at k$^\\text{th}$ position (see the following <a href=#tab>tabular</a> or the more complete description here :https://en.wikipedia.org/wiki/Hamming_code#General_algorithm)\n",
    "* `locate_errors_in_0indexing(bits,r)` returns the locations (0-indexed) of error locations (assuming that at most one bit was fliped per entry)\n",
    "* `hamming_decode(bits,r)` which actually call the previous function and then correct each error (one at most per entry and return the corrected bits (except for the parity bits which are dropped)\n",
    "<a id=\"tab\"/>\n",
    "    \n",
    "<dl><dd><table class=\"wikitable\" style=\"text-align:center;\">\n",
    "\n",
    "<tbody><tr>\n",
    "<th colspan=\"2\"><span style=\"color:#888\">Bit position</span>\n",
    "</th>\n",
    "<th><span style=\"color:#888\">1</span></th>\n",
    "<th><span style=\"color:#888\">2</span></th>\n",
    "<th><span style=\"color:#888\">3</span></th>\n",
    "<th><span style=\"color:#888\">4</span></th>\n",
    "<th><span style=\"color:#888\">5</span></th>\n",
    "<th><span style=\"color:#888\">6</span></th>\n",
    "<th><span style=\"color:#888\">7</span></th>\n",
    "<th><span style=\"color:#888\">8</span></th>\n",
    "<th><span style=\"color:#888\">9</span></th>\n",
    "<th><span style=\"color:#888\">10</span></th>\n",
    "<th><span style=\"color:#888\">11</span></th>\n",
    "<th><span style=\"color:#888\">12</span></th>\n",
    "<th><span style=\"color:#888\">13</span></th>\n",
    "<th><span style=\"color:#888\">14</span></th>\n",
    "<th><span style=\"color:#888\">15</span></th>\n",
    "<th><span style=\"color:#888\">16</span></th>\n",
    "<th><span style=\"color:#888\">17</span></th>\n",
    "<th><span style=\"color:#888\">18</span></th>\n",
    "<th><span style=\"color:#888\">19</span></th>\n",
    "<th><span style=\"color:#888\">20</span>\n",
    "</th>\n",
    "<td rowspan=\"7\">…\n",
    "</td></tr>\n",
    "<tr>\n",
    "<th colspan=\"2\">Encoded data bits\n",
    "</th>\n",
    "<th style=\"background-color: #90FF90;\">p1\n",
    "</th>\n",
    "<th style=\"background-color: #90FF90;\">p2</th>\n",
    "<th>d1\n",
    "</th>\n",
    "<th style=\"background-color: #90FF90;\">p4</th>\n",
    "<th>d2</th>\n",
    "<th>d3</th>\n",
    "<th>d4\n",
    "</th>\n",
    "<th style=\"background-color: #90FF90;\">p8</th>\n",
    "<th>d5</th>\n",
    "<th>d6</th>\n",
    "<th>d7</th>\n",
    "<th>d8</th>\n",
    "<th>d9</th>\n",
    "<th>d10</th>\n",
    "<th>d11\n",
    "</th>\n",
    "<th style=\"background-color: #90FF90;\">p16</th>\n",
    "<th>d12</th>\n",
    "<th>d13</th>\n",
    "<th>d14</th>\n",
    "<th>d15\n",
    "</th></tr>\n",
    "<tr>\n",
    "<th rowspan=\"5\">Parity<br>bit<br>coverage\n",
    "</th>\n",
    "<th style=\"background-color: #90FF90;\">p1\n",
    "</th>\n",
    "<td data-sort-value=\"Yes\" style=\"background: #DFD; vertical-align: middle; text-align: center;\" class=\"table-yes2\">&#10004;</td>\n",
    "<td></td>\n",
    "<td data-sort-value=\"Yes\" style=\"background: #DFD; vertical-align: middle; text-align: center;\" class=\"table-yes2\">&#10004;</td>\n",
    "<td></td>\n",
    "<td data-sort-value=\"Yes\" style=\"background: #DFD; vertical-align: middle; text-align: center;\" class=\"table-yes2\">&#10004;</td>\n",
    "<td></td>\n",
    "<td data-sort-value=\"Yes\" style=\"background: #DFD; vertical-align: middle; text-align: center;\" class=\"table-yes2\">&#10004;</td>\n",
    "<td></td>\n",
    "<td data-sort-value=\"Yes\" style=\"background: #DFD; vertical-align: middle; text-align: center;\" class=\"table-yes2\">&#10004;</td>\n",
    "<td></td>\n",
    "<td data-sort-value=\"Yes\" style=\"background: #DFD; vertical-align: middle; text-align: center;\" class=\"table-yes2\">&#10004;</td>\n",
    "<td></td>\n",
    "<td data-sort-value=\"Yes\" style=\"background: #DFD; vertical-align: middle; text-align: center;\" class=\"table-yes2\">&#10004;</td>\n",
    "<td></td>\n",
    "<td data-sort-value=\"Yes\" style=\"background: #DFD; vertical-align: middle; text-align: center;\" class=\"table-yes2\">&#10004;</td>\n",
    "<td></td>\n",
    "<td data-sort-value=\"Yes\" style=\"background: #DFD; vertical-align: middle; text-align: center;\" class=\"table-yes2\">&#10004;</td>\n",
    "<td></td>\n",
    "<td data-sort-value=\"Yes\" style=\"background: #DFD; vertical-align: middle; text-align: center;\" class=\"table-yes2\">&#10004;</td>\n",
    "<td>\n",
    "</td></tr>\n",
    "<tr>\n",
    "<th style=\"background-color: #90FF90;\">p2\n",
    "</th>\n",
    "<td></td>\n",
    "<td data-sort-value=\"Yes\" style=\"background: #DFD; vertical-align: middle; text-align: center;\" class=\"table-yes2\">&#10004;</td>\n",
    "<td data-sort-value=\"Yes\" style=\"background: #DFD; vertical-align: middle; text-align: center;\" class=\"table-yes2\">&#10004;</td>\n",
    "<td></td>\n",
    "<td></td>\n",
    "<td data-sort-value=\"Yes\" style=\"background: #DFD; vertical-align: middle; text-align: center;\" class=\"table-yes2\">&#10004;</td>\n",
    "<td data-sort-value=\"Yes\" style=\"background: #DFD; vertical-align: middle; text-align: center;\" class=\"table-yes2\">&#10004;</td>\n",
    "<td></td>\n",
    "<td></td>\n",
    "<td data-sort-value=\"Yes\" style=\"background: #DFD; vertical-align: middle; text-align: center;\" class=\"table-yes2\">&#10004;</td>\n",
    "<td data-sort-value=\"Yes\" style=\"background: #DFD; vertical-align: middle; text-align: center;\" class=\"table-yes2\">&#10004;</td>\n",
    "<td></td>\n",
    "<td></td>\n",
    "<td data-sort-value=\"Yes\" style=\"background: #DFD; vertical-align: middle; text-align: center;\" class=\"table-yes2\">&#10004;</td>\n",
    "<td data-sort-value=\"Yes\" style=\"background: #DFD; vertical-align: middle; text-align: center;\" class=\"table-yes2\">&#10004;</td>\n",
    "<td></td>\n",
    "<td></td>\n",
    "<td data-sort-value=\"Yes\" style=\"background: #DFD; vertical-align: middle; text-align: center;\" class=\"table-yes2\">&#10004;</td>\n",
    "<td data-sort-value=\"Yes\" style=\"background: #DFD; vertical-align: middle; text-align: center;\" class=\"table-yes2\">&#10004;</td>\n",
    "<td>\n",
    "</td></tr>\n",
    "<tr>\n",
    "<th style=\"background-color: #90FF90;\">p4\n",
    "</th>\n",
    "<td></td>\n",
    "<td></td>\n",
    "<td></td>\n",
    "<td data-sort-value=\"Yes\" style=\"background: #DFD; vertical-align: middle; text-align: center;\" class=\"table-yes2\">&#10004;</td>\n",
    "<td data-sort-value=\"Yes\" style=\"background: #DFD; vertical-align: middle; text-align: center;\" class=\"table-yes2\">&#10004;</td>\n",
    "<td data-sort-value=\"Yes\" style=\"background: #DFD; vertical-align: middle; text-align: center;\" class=\"table-yes2\">&#10004;</td>\n",
    "<td data-sort-value=\"Yes\" style=\"background: #DFD; vertical-align: middle; text-align: center;\" class=\"table-yes2\">&#10004;</td>\n",
    "<td></td>\n",
    "<td></td>\n",
    "<td></td>\n",
    "<td></td>\n",
    "<td data-sort-value=\"Yes\" style=\"background: #DFD; vertical-align: middle; text-align: center;\" class=\"table-yes2\">&#10004;</td>\n",
    "<td data-sort-value=\"Yes\" style=\"background: #DFD; vertical-align: middle; text-align: center;\" class=\"table-yes2\">&#10004;</td>\n",
    "<td data-sort-value=\"Yes\" style=\"background: #DFD; vertical-align: middle; text-align: center;\" class=\"table-yes2\">&#10004;</td>\n",
    "<td data-sort-value=\"Yes\" style=\"background: #DFD; vertical-align: middle; text-align: center;\" class=\"table-yes2\">&#10004;</td>\n",
    "<td></td>\n",
    "<td></td>\n",
    "<td></td>\n",
    "<td></td>\n",
    "<td data-sort-value=\"Yes\" style=\"background: #DFD; vertical-align: middle; text-align: center;\" class=\"table-yes2\">&#10004;</td></tr>\n",
    "<tr>\n",
    "<th style=\"background-color: #90FF90;\">p8\n",
    "</th>\n",
    "<td></td>\n",
    "<td></td>\n",
    "<td></td>\n",
    "<td></td>\n",
    "<td></td>\n",
    "<td></td>\n",
    "<td></td>\n",
    "<td data-sort-value=\"Yes\" style=\"background: #DFD; vertical-align: middle; text-align: center;\" class=\"table-yes2\">&#10004;</td>\n",
    "<td data-sort-value=\"Yes\" style=\"background: #DFD; vertical-align: middle; text-align: center;\" class=\"table-yes2\">&#10004;</td>\n",
    "<td data-sort-value=\"Yes\" style=\"background: #DFD; vertical-align: middle; text-align: center;\" class=\"table-yes2\">&#10004;</td>\n",
    "<td data-sort-value=\"Yes\" style=\"background: #DFD; vertical-align: middle; text-align: center;\" class=\"table-yes2\">&#10004;</td>\n",
    "<td data-sort-value=\"Yes\" style=\"background: #DFD; vertical-align: middle; text-align: center;\" class=\"table-yes2\">&#10004;</td>\n",
    "<td data-sort-value=\"Yes\" style=\"background: #DFD; vertical-align: middle; text-align: center;\" class=\"table-yes2\">&#10004;</td>\n",
    "<td data-sort-value=\"Yes\" style=\"background: #DFD; vertical-align: middle; text-align: center;\" class=\"table-yes2\">&#10004;</td>\n",
    "<td data-sort-value=\"Yes\" style=\"background: #DFD; vertical-align: middle; text-align: center;\" class=\"table-yes2\">&#10004;</td>\n",
    "<td></td>\n",
    "<td></td>\n",
    "<td></td>\n",
    "<td></td>\n",
    "<td>\n",
    "</td></tr>\n",
    "<tr>\n",
    "<th style=\"background-color: #90FF90;\">p16\n",
    "</th>\n",
    "<td></td>\n",
    "<td></td>\n",
    "<td></td>\n",
    "<td></td>\n",
    "<td></td>\n",
    "<td></td>\n",
    "<td></td>\n",
    "<td></td>\n",
    "<td></td>\n",
    "<td></td>\n",
    "<td></td>\n",
    "<td></td>\n",
    "<td></td>\n",
    "<td></td>\n",
    "<td></td>\n",
    "<td data-sort-value=\"Yes\" style=\"background: #DFD; vertical-align: middle; text-align: center;\" class=\"table-yes2\">&#10004;</td>\n",
    "<td data-sort-value=\"Yes\" style=\"background: #DFD; vertical-align: middle; text-align: center;\" class=\"table-yes2\">&#10004;</td>\n",
    "<td data-sort-value=\"Yes\" style=\"background: #DFD; vertical-align: middle; text-align: center;\" class=\"table-yes2\">&#10004;</td>\n",
    "<td data-sort-value=\"Yes\" style=\"background: #DFD; vertical-align: middle; text-align: center;\" class=\"table-yes2\">&#10004;</td>\n",
    "<td data-sort-value=\"Yes\" style=\"background: #DFD; vertical-align: middle; text-align: center;\" class=\"table-yes2\">&#10004;\n",
    "</td></tr></tbody></table></dd></dl>\n",
    "\n"
   ]
  },
  {
   "cell_type": "code",
   "execution_count": 54,
   "metadata": {},
   "outputs": [
    {
     "name": "stdout",
     "output_type": "stream",
     "text": [
      "test_nbits [OK]\n",
      "test_int2bits [OK]\n",
      "test_bits2int [OK]\n",
      "test_nparity_bits [OK]\n",
      "test_init_parity_bits [OK]\n",
      "test_hamming_encode [OK]\n",
      "test_locate_errors_in_0indexing [OK]\n",
      "test_hamming_decode [OK]\n"
     ]
    }
   ],
   "source": [
    "def nbits(x):\n",
    "    n = 1\n",
    "    max_val = int(torch.max(x).item())\n",
    "    n = math.ceil(math.log2(max_val + 1)) if max_val > 0 else 1\n",
    "    return n\n",
    "    \n",
    "\n",
    "def test_nbits():\n",
    "    x = torch.arange(0, 128)\n",
    "    n1 = nbits(x)\n",
    "    n2 = nbits(x+1)\n",
    "    n3 = nbits(x+1)\n",
    "    if (n1,n2,n3) == (7,8,8):\n",
    "        print('test_nbits [OK]')\n",
    "    else:\n",
    "        print('test_nbits [NOK]')\n",
    "    \n",
    "test_nbits()\n",
    "\n",
    "def int2bits(x):\n",
    "    n = nbits(x)\n",
    "    bits = torch.empty(list(x.shape)+[n])\n",
    "    for i in range(n):\n",
    "        bits[...,i] = ((x>> i) &  1)\n",
    "    return bits.to(bool)\n",
    "\n",
    "\n",
    "def test_int2bits():\n",
    "    x = torch.arange(0, 8)\n",
    "    bits = int2bits(x)\n",
    "    if (bits.dtype == torch.bool) and torch.all(bits == torch.tensor([[0, 0, 0],[1, 0, 0],[0, 1, 0],[1, 1, 0],[0, 0, 1],[1, 0, 1],[0, 1, 1],[1, 1, 1]])):\n",
    "        print('test_int2bits [OK]')\n",
    "    else:\n",
    "        print('test_int2bits [NOK]')\n",
    "    \n",
    "test_int2bits()\n",
    "\n",
    "\n",
    "def bits2int(bits):\n",
    "    n = bits.shape[-1]\n",
    "    x = torch.zeros(bits.shape[:-1])\n",
    "    for i in range(n):\n",
    "        x += bits[...,i].to(torch.int64) * (1 << i)\n",
    "    return x.to(int)\n",
    "\n",
    "def test_bits2int():\n",
    "    bits = torch.tensor([[0, 0, 0],[1, 0, 0],[0, 1, 0],[1, 1, 0],[0, 0, 1],[1, 0, 1],[0, 1, 1],[1, 1, 1]]).to(bool)\n",
    "    x = bits2int(bits)\n",
    "    if (x.dtype == torch.int64) and torch.all(x == torch.arange(0, 8)):\n",
    "        print('test_bits2int [OK]')\n",
    "    else:\n",
    "        print('test_bits2int [NOK]')\n",
    "    \n",
    "test_bits2int()\n",
    "\n",
    "\n",
    "def nparity_bits(n):\n",
    "    r = 0\n",
    "    while (2 ** r) < (n + r + 1):\n",
    "        r += 1\n",
    "    return r\n",
    "        \n",
    "def test_nparity_bits():\n",
    "    r10 = nparity_bits(10)\n",
    "    r11 = nparity_bits(11)\n",
    "    r12 = nparity_bits(12)\n",
    "    if (r10,r11,r12) == (4,4,5):\n",
    "        print('test_nparity_bits [OK]')\n",
    "    else:\n",
    "        print('test_nparity_bits [NOK]')\n",
    "\n",
    "test_nparity_bits()\n",
    "\n",
    "\n",
    "def init_parity_bits(bits):\n",
    "    n = bits.shape[-1]\n",
    "    r = nparity_bits(n)\n",
    "    nb_bits = n+r\n",
    "\n",
    "    newbits = torch.zeros(bits.shape[:-1] + (nb_bits,))\n",
    "    data_idx = 0\n",
    "    for i in range(nb_bits):\n",
    "        if (i + 1) & i: \n",
    "            newbits[..., i] = bits[..., data_idx]\n",
    "            data_idx += 1\n",
    "\n",
    "    return newbits.to(bool)\n",
    "\n",
    "def test_init_parity_bits():\n",
    "    bits = torch.rand(10, 8)>0.5\n",
    "    all_bits = init_parity_bits(bits)\n",
    "    ntotal = all_bits.shape[-1]\n",
    "    test = (ntotal == 12)\n",
    "    z = torch.zeros_like(bits[...,0])\n",
    "    for k in range(4):\n",
    "        test = test and torch.allclose(z, all_bits[[...,(1<<k)-1]])\n",
    "\n",
    "    if test:\n",
    "        print('test_init_parity_bits [OK]')\n",
    "    else:\n",
    "        print('test_init_parity_bits [NOK]')\n",
    "\n",
    "        \n",
    "test_init_parity_bits()\n",
    "\n",
    "\n",
    "def hamming_encode(bits):\n",
    "    n = bits.shape[-1]\n",
    "    r = nparity_bits(n)\n",
    "    bits = init_parity_bits(bits)   \n",
    "    n = bits.shape[-1]\n",
    "    \n",
    "    for k in range(r):  \n",
    "        parity_pos = (1 << k) - 1  \n",
    "        parity = torch.zeros(bits.shape[:-1], dtype=torch.bool)\n",
    "        for i in range(1, n + 1):  \n",
    "            if i & (1 << k):  \n",
    "                parity = parity ^ bits[..., i-1] \n",
    "        \n",
    "        bits[..., parity_pos] = parity\n",
    "    \n",
    "    return bits\n",
    "\n",
    "def test_hamming_encode():\n",
    "    bits = torch.rand(10, 8)>0.5\n",
    "    bits[0,:] = torch.Tensor([1, 0, 1, 1, 0, 0, 1, 1]).to(bool)\n",
    "    expected = torch.Tensor([1, 0, 1, 1, 0, 1, 1, 0, 0, 0, 1, 1]).to(int)\n",
    "    all_bits = hamming_encode(bits)\n",
    "    ntotal = all_bits.shape[-1]\n",
    "    test = (ntotal == 12)\n",
    "    test = test and  torch.all(all_bits[0,:] == expected)\n",
    "    if test:\n",
    "        print('test_hamming_encode [OK]')\n",
    "    else:\n",
    "        print('test_hamming_encode [NOK]')\n",
    "\n",
    "        \n",
    "test_hamming_encode()\n",
    "\n",
    "import torch.nn.functional as F #usefull for F.one_hot\n",
    "\n",
    "def locate_errors_in_0indexing(bits, r):\n",
    "    n = bits.shape[-1]\n",
    "    error_locations_1indexing = torch.zeros(bits.shape[:-1],dtype=int)\n",
    "    \n",
    "    for k in range(r):\n",
    "        parity = torch.zeros(bits.shape[:-1], dtype=torch.bool)\n",
    "        for i in range(1, n + 1): \n",
    "            if i & (1 << k):  \n",
    "                parity = parity ^ bits[..., i-1]  \n",
    "        \n",
    "        error_locations_1indexing += parity.to(torch.int64) * (1 << k)\n",
    "    \n",
    "    error_locations_0indexing = error_locations_1indexing-1\n",
    "    return error_locations_0indexing\n",
    "    \n",
    "\n",
    "def test_locate_errors_in_0indexing():\n",
    "    bits = torch.Tensor([1, 0, 1, 1, 0, 0, 1, 1]).to(bool).repeat( [3, 1])\n",
    "    r = nparity_bits(8) \n",
    "    all_bits = hamming_encode(bits)\n",
    "    erroneous = all_bits.clone()\n",
    "    erroneous[0,5] = not erroneous[0,5]\n",
    "    erroneous[1,4] = not erroneous[1,4]\n",
    "    erroneous[2,3] = not erroneous[2,3]\n",
    "    error_locations_0indexing = locate_errors_in_0indexing(erroneous, r)\n",
    "\n",
    "    if list(error_locations_0indexing) == [5,4,3]:\n",
    "        print('test_locate_errors_in_0indexing [OK]')\n",
    "    else:\n",
    "        print('test_locate_errors_in_0indexing [NOK]')\n",
    "    \n",
    "test_locate_errors_in_0indexing()\n",
    "    \n",
    "def hamming_decode(bits, r): \n",
    "    n = bits.shape[-1]\n",
    "    error_locations_0indexing = locate_errors_in_0indexing(bits, r)\n",
    "    \n",
    "    corrected_bits = bits.clone()\n",
    "    for i in range(bits.shape[0]):  \n",
    "        if len(bits.shape) > 1:  \n",
    "            error_pos = error_locations_0indexing[i]\n",
    "            if 0 <= error_pos < n:  \n",
    "                corrected_bits[i, error_pos] = not corrected_bits[i, error_pos]\n",
    "        else:  \n",
    "            error_pos = error_locations_0indexing.item()\n",
    "            if 0 <= error_pos < n:\n",
    "                corrected_bits[error_pos] = not corrected_bits[error_pos]\n",
    "    \n",
    "    data_bits = torch.zeros(corrected_bits.shape[:-1] + (n - r,), dtype=torch.bool)\n",
    "    data_idx = 0\n",
    "    for i in range(n):\n",
    "        if (i + 1) & i: \n",
    "            data_bits[..., data_idx] = corrected_bits[..., i]\n",
    "            data_idx += 1\n",
    "    \n",
    "    return data_bits\n",
    "\n",
    "def test_hamming_decode():\n",
    "    bits = torch.Tensor([1, 0, 1, 1, 0, 0, 1, 1]).to(bool).repeat( [3, 1])\n",
    "    r = nparity_bits(8) \n",
    "    all_bits = hamming_encode(bits)\n",
    "    erroneous = all_bits.clone()\n",
    "    erroneous[0,5] = not erroneous[0,5]\n",
    "    erroneous[1,4] = not erroneous[1,4]\n",
    "    erroneous[2,3] = not erroneous[2,3]\n",
    "    decoded = hamming_decode(erroneous, r)\n",
    "\n",
    "    if torch.all(decoded == bits):\n",
    "        print('test_hamming_decode [OK]')\n",
    "    else:\n",
    "        print('test_hamming_decode [NOK]')\n",
    "\n",
    "        \n",
    "test_hamming_decode()\n",
    "    \n",
    "\n",
    "                    \n",
    "    "
   ]
  }
 ],
 "metadata": {
  "accelerator": "GPU",
  "colab": {
   "collapsed_sections": [],
   "provenance": []
  },
  "kernelspec": {
   "display_name": "Python 3",
   "language": "python",
   "name": "python3"
  },
  "language_info": {
   "codemirror_mode": {
    "name": "ipython",
    "version": 3
   },
   "file_extension": ".py",
   "mimetype": "text/x-python",
   "name": "python",
   "nbconvert_exporter": "python",
   "pygments_lexer": "ipython3",
   "version": "3.10.12"
  }
 },
 "nbformat": 4,
 "nbformat_minor": 1
}
